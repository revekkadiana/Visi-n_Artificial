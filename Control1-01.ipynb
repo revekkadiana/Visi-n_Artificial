{
 "cells": [
  {
   "cell_type": "markdown",
   "metadata": {},
   "source": [
    "# **Control práctico**\n",
    "\n",
    "**Visión artificial** del Grado en Ciencia e Ingeniería de Datos.\n",
    "\n",
    "<img src =\"https://epigijon.uniovi.es/image/image_gallery?uuid=903ae5c8-b29b-430e-980d-1a19a885c736&groupId=3743853&t=1688576582973\" width=300 px>\n",
    "\n",
    "Marzo 2024\n",
    "\n",
    "***"
   ]
  },
  {
   "cell_type": "code",
   "execution_count": null,
   "metadata": {},
   "outputs": [],
   "source": [
    "import numpy as np\n",
    "import cv2\n",
    "import matplotlib.pyplot as plt\n",
    "import skimage\n",
    "import scipy"
   ]
  },
  {
   "cell_type": "markdown",
   "metadata": {},
   "source": [
    "## Ejercicio 1: Manipulación\n",
    "\n",
    "> Crea una máscara con el mismo tamaño, canales y tipo de dato que la imagen `pez.jpg`. Inicialmente la máscara se inicializa con ceros.\n",
    ">\n",
    "> Escribe sobre la máscara tu nombre usando la función `cv2.putText` en blanco. El nombre debe estar centrado respecto a la imagen, para lo que se necesitará utilizar `cv2.getTextSize`.\n",
    ">\n",
    "> Modifica la imagen `pez.jpg`, poniendo en color rojo todos aquellos píxeles donde la máscara tuviera cero."
   ]
  },
  {
   "cell_type": "markdown",
   "metadata": {},
   "source": [
    "## Ejercicio 2: Contraste\n",
    "\n",
    "> Carga la imagen `hola.png` y realiza la normalización minmax para ajustar el contraste.\n",
    ">\n",
    "> Visualiza el resultado"
   ]
  },
  {
   "cell_type": "markdown",
   "metadata": {},
   "source": [
    "## Ejercicio 3: Imágenes híbridas\n",
    "\n",
    "> Añade el código y las imágenes usadas para realizar el ejercicio de las imágenes híbridas.\n",
    "> Visualiza el resultado"
   ]
  },
  {
   "cell_type": "markdown",
   "metadata": {},
   "source": [
    "## Ejercicio 4: Afilado\n",
    "\n",
    "> Carga la imagen `ojo.png` y realiza el afilado con sigma 7 y fuerza 2.\n",
    ">\n",
    "> Visualiza el resultado"
   ]
  },
  {
   "cell_type": "markdown",
   "metadata": {},
   "source": [
    "## Ejercicio 5: Bordes\n",
    "\n",
    "> Carga la imagen `girl.png` y realiza la detección de bordes usando la primera derivada de la gaussiana (sigma=1)\n",
    ">\n",
    "> Visualiza la imagen original y realiza una superposición en color rojo de aquellos bordes cuya magnitud de gradiente sea superior a 0.25 multiplicado por el gradiente máximo.\n"
   ]
  },
  {
   "cell_type": "markdown",
   "metadata": {},
   "source": [
    "## Ejercicio 6: Transformación\n",
    "\n",
    "> Carga la imagen `ojo.png` y realiza una transformación combinada con el siguiente orden: escalado (5x, 2y), después rotación (pi/4), después traslación (20x, 10y).\n",
    ">\n",
    "> Visualiza el resultado"
   ]
  }
 ],
 "metadata": {
  "kernelspec": {
   "display_name": ".env",
   "language": "python",
   "name": "python3"
  },
  "language_info": {
   "codemirror_mode": {
    "name": "ipython",
    "version": 3
   },
   "file_extension": ".py",
   "mimetype": "text/x-python",
   "name": "python",
   "nbconvert_exporter": "python",
   "pygments_lexer": "ipython3",
   "version": "3.8.10"
  }
 },
 "nbformat": 4,
 "nbformat_minor": 2
}
