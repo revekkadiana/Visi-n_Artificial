{
  "cells": [
    {
      "cell_type": "markdown",
      "metadata": {
        "id": "xQ6Pxvn5eZYM"
      },
      "source": [
        "# **Práctica 1: Introducción al entorno de trabajo**\n",
        "\n",
        "<img src =\"https://epigijon.uniovi.es/image/image_gallery?uuid=903ae5c8-b29b-430e-980d-1a19a885c736&groupId=3743853&t=1688576582973\" width=300 px>\n",
        "\n",
        "Este cuaderno desarrolla contenidos prácticos de la asignatura **Visión artificial** del Grado en Ciencia e Ingeniería de Datos.\n",
        "\n",
        "***"
      ]
    },
    {
      "cell_type": "markdown",
      "metadata": {
        "id": "TNePIgpjeZYR"
      },
      "source": [
        "# Introducción\n",
        "\n",
        "En esta práctica se realizará una introducción a algunos aspectos del entorno de trabajo que se utilizarán a lo largo de la asignatura. Fundamentalmente se utilizará el lenguaje Python y el entorno de desarrollo Visual Studio Code o Colab."
      ]
    },
    {
      "cell_type": "markdown",
      "metadata": {
        "id": "tKsoGJ9oeZYS"
      },
      "source": [
        "# Sistema de control de versiones\n",
        "\n",
        "A lo largo del curso se realizarán diversos programas utilizando herramientas y bibliotecas para ejemplificar los conceptos tratados durante el curso. Para organizar todo el código se recomienda crear un repositorio en [GitHub](https://github.com/) que sirva de sistema de control de versiones. El registro en GitHub se debe realizar con la cuenta corporativa de la universidad, para poder obtener los beneficios de la cuenta académica que ofrece la plataforma.\n",
        "\n",
        "> Crea una cuenta en GitHub con la cuenta corporativa de la universidad en caso de que no la tuvieras previamente.\n",
        "\n",
        "> Crea un repositorio para almacenar las prácticas. El repositorio debe ser privado.\n",
        "\n",
        "> Asegúrate de incluir un fichero `.gitignore` para evitar subir ficheros indeseados usando la plantilla de Python. El propio proceso de creación ayuda a automatizar esta cuestión.\n",
        "\n",
        "> Abre el interprete de comandos y clona el repositorio que acabas de crear, por ejemplo:\n",
        ">\n",
        "> ```bash\n",
        "> $ git clone https://github.com/rusamentiaga/testva.git\n",
        "> ```\n",
        ">\n",
        "\n",
        "> Crea un fichero `README.md` y añade tu nombre y una descripción del repositorio.\n",
        "\n",
        "> Añade el fichero al repositorio\n",
        "> ```bash\n",
        "> $ git add README.md\n",
        "> ```\n",
        "\n",
        "> Almacena el fichero en el repositorio y añade un mensaje\n",
        "> ```bash\n",
        "> $ git commit -m \"Se añade fichero de descripción del repositorio\"\n",
        "> ```\n",
        "\n",
        "> Sincroniza el repositorio remotamente\n",
        "> ```bash\n",
        "> $ git push\n",
        "> ```\n",
        "\n",
        "A través de la interfaz web de GitHub, deberías poder ver los cambios.\n",
        "\n",
        "Los comandos `git` más básicos que necesitan son los siguientes:\n",
        "\n",
        "* `git add fichero`: Añade los cambios que hayas realizado en _fichero_ al índice.\n",
        "* `git commit` guarda en el repositorio las modificaciones almacenadas en el índice. Git abrirá un editor para que escribas el _mensaje de commit_, que es un breve resumen de los cambios realizados.\n",
        "* `git status` te muestra el estado de tu carpeta de trabajo, si hay ficheros en ella que `git` no tiene en el repositorio, si hay cambios no guardados en el índice, si hay cosas en el índice que aún no están en el repositorio, etc.\n",
        "* `git log` muestra la historia del repositorio con las fechas de cada _commit_, tus mensajes, etc. `git log --oneline` te da una versión más corta (sólo los mensajes, uno por línea). Junto a cada _commit_ aparece un número hexadecimal que es su identificador y es el que debes usar cuando quieras referirte a un _commit_ concreto, por ejemplo para recuperarlo.\n",
        "* `git pull` descarga los cambios en el repositorio desde un almacén remoto.\n",
        "* `git push` sube los cambios locales a un almacén remoto.\n",
        "\n",
        "Estos comandos son los fundamentales para utilizar Git con un flujo de trabajo simple. Cuando se usa Git en un entorno colaborativo aparecen muchos más comandos y opciones, especialmente en relación al trabajo con ramas. Git es una herramienta que se debe conocer y utilizar, pero está fuera de los objetivos concretos de la asignatura. Puedes encontrar numerosos tutoriales online."
      ]
    },
    {
      "cell_type": "markdown",
      "metadata": {
        "id": "d-tTkwULeZYT"
      },
      "source": [
        "# Entornos de trabajo virtuales\n",
        "\n",
        "Trabajar con [entornos virtuales en Python](https://docs.python.org/es/3/tutorial/venv.html) es una práctica fundamental para gestionar las dependencias de tus proyectos de manera eficiente. Los entornos virtuales permiten aislar las bibliotecas y paquetes utilizados en un proyecto específico, lo que facilita la gestión de las dependencias y evita conflictos entre versiones.\n",
        "\n",
        "## Creación del entorno\n",
        "\n",
        "Las últimas versiones de Python incluyen la biblioteca `venv` para la gestión de entornos virtuales.\n",
        "\n",
        "Para crear el entorno virtual se debe utilizar el siguiente comando\n",
        "\n",
        "```bash\n",
        "$ python -m venv nombre_del_entorno\n",
        "```\n",
        "\n",
        "se debe reemplazar `nombre_del_entorno` con el nombre que desees para tu entorno virtual. Es habitual utilizar `.env`.\n",
        "\n",
        "## Activación del entorno\n",
        "\n",
        "Para comenzar a trabajar en tu entorno virtual, debes activarlo. La forma de hacerlo depende de tu sistema operativo:\n",
        "\n",
        "En Windows:\n",
        "```bash\n",
        "$ nombre_del_entorno\\Scripts\\activate\n",
        "```\n",
        "\n",
        "En Linux:\n",
        "```bash\n",
        "$ source nombre_del_entorno/bin/activate\n",
        "```\n",
        "\n",
        "Una vez activado, notarás que el nombre de tu entorno virtual se muestra en el prompt de la terminal, lo que indica que estás trabajando dentro del entorno virtual.\n",
        "\n",
        "## Instalar paquetes en el entorno virtual\n",
        "\n",
        "Dentro del entorno virtual, puedes instalar paquetes y bibliotecas específicas para tu proyecto sin afectar el entorno global de Python. Usa pip para instalar paquetes, por ejemplo:\n",
        "\n",
        "```bash\n",
        "$ pip install nombre_del_paquete\n",
        "```\n",
        "\n",
        "## Desactivar el entorno virtual\n",
        "\n",
        "Cuando hayas terminado de trabajar en tu proyecto y quieras volver al entorno global de Python, simplemente ejecuta:\n",
        "\n",
        "```bash\n",
        "$ deactivate\n",
        "```\n",
        "\n",
        "Esto desactivará el entorno virtual y te llevará de vuelta al entorno global de Python.\n",
        "\n",
        "## Eliminar el entorno virtual (opcional)\n",
        "\n",
        "Si deseas eliminar el entorno virtual y sus dependencias, simplemente borra la carpeta del entorno virtual desde tu sistema de archivos. Asegúrate de haber desactivado el entorno virtual antes de hacerlo.\n",
        "\n",
        "\n",
        "## Ejercicio\n",
        "\n",
        "> Crea un entorno virtual\n",
        "\n",
        "> Activa el entorno e instala los paquetes necesarios para poder usar jupyterlab (`pip install jupyterlab`).\n",
        "\n",
        "> Ejecuta jupyter\n",
        ">\n",
        "> ```bash\n",
        "> $ jupyter lab\n",
        "> ```\n",
        "\n",
        "> Verifica su funcionamiento\n",
        "\n",
        "> Crea un cuaderno de ejemplo y sube los cambios al repositorio remoto."
      ]
    },
    {
      "cell_type": "markdown",
      "metadata": {
        "id": "7vGA8Zo8eZYT"
      },
      "source": [
        "# Colab\n",
        "\n",
        "<img src=\"https://upload.wikimedia.org/wikipedia/commons/thumb/d/d0/Google_Colaboratory_SVG_Logo.svg/1200px-Google_Colaboratory_SVG_Logo.svg.png\" width=300 px>\n",
        "\n",
        "Colaboratory, o Colab en su forma abreviada, es una plataforma gratuita basada en la nube que permite a los usuarios ejecutar y colaborar en cuadernos Jupyter (Jupyter Notebooks) con acceso a GPU y TPU de Google de forma gratuita. Estos cuadernos son ideales para desarrollar y ejecutar código en lenguajes como Python, así como para realizar investigaciones y análisis de datos de manera colaborativa.\n",
        "\n",
        "## Acceso a Colab\n",
        "\n",
        "Para acceder a Colab, se debe ejecutar el navegador web e ir a la página principal de Google Colab en https://colab.research.google.com/. A continuación se debe iniciar sesión en tu cuenta de Google. Si no tienes una cuenta de Google, puedes crear una de forma gratuita.\n",
        "\n",
        "## Uso de GPU y TPU\n",
        "\n",
        "Colab proporciona acceso gratuito a GPU y TPU de Google, lo que es especialmente útil para tareas de aprendizaje profundo y procesamiento intensivo. Para usar GPU o TPU, se deben seguir estos pasos:\n",
        "\n",
        "* Ve al menú \"Entorno de ejecución\" en la parte superior de la página.\n",
        "\n",
        "* Selecciona \"Cambiar tipo de entorno de ejecución\".\n",
        "\n",
        "* En la ventana emergente, elige \"GPU\" o \"TPU\" en el campo \"Acelerador de hardware\".\n",
        "\n",
        "* Haz clic en \"Guardar\" para confirmar la configuración.\n",
        "\n",
        "## Abrir y guardar cuadernos\n",
        "\n",
        "Hay distintas formas de abrir y guardar los cuadernos realizado en Colab. Entre las opciones disponibles están Google Drive y también GitHub. En ambos casos se puede tanto abrir como guardar.\n",
        "\n",
        "También es posible descargar el cuaderno y guardarlo localmente.\n",
        "\n",
        "## Ejercicio\n",
        "\n",
        "> Abre el cuaderno que habías creado previamente y guardado en GitHub.\n",
        "\n",
        "> Modifica el cuaderno y haz una copia de nuevo en GitHub."
      ]
    },
    {
      "cell_type": "markdown",
      "metadata": {
        "id": "8go07V_ueZYT"
      },
      "source": [
        "# Visual Studio Code\n",
        "\n",
        "<img src=\"https://upload.wikimedia.org/wikipedia/commons/thumb/9/9a/Visual_Studio_Code_1.35_icon.svg/113px-Visual_Studio_Code_1.35_icon.svg.png\">\n",
        "\n",
        "[Visual Studio Code](https://code.visualstudio.com/) (VS Code) es un editor de código altamente personalizable y ampliamente utilizado que para desarrollar código en Python. Para habilitar el soporte de Python en Visual Studio Code, es necesario instalar la extensión de Python.\n",
        "\n",
        "En VS Code se puede trabajar tanto con ficheros de Python como con cuadernos, que se pueden ejecutar en entornos virtuales locales. Visual Studio Code tiene muchas características adicionales para mejorar la productividad, como la gestión de paquetes, control de versiones con Git, autocompletado y más. Además existe un gran ecosistema de extensiones que cubren casi cualquier necesidad. A lo largo de las prácticas que se realizarán durante el curso es una herramienta que puede resultar de gran utilidad."
      ]
    },
    {
      "cell_type": "markdown",
      "metadata": {
        "id": "jcNHeZl6eZYU"
      },
      "source": [
        "# Python\n",
        "\n",
        "<img src=\"https://upload.wikimedia.org/wikipedia/commons/thumb/c/c3/Python-logo-notext.svg/200px-Python-logo-notext.svg.png\" width=80>\n",
        "\n",
        "\n",
        "En esta asignatura se utilizará el lenguaje de programación Python para la mayoría de las prácticas debido a la simplicidad de su sintaxis y a la gran variedad de bibliotecas que vienen incorporadas al lenguaje y que hacen posible el abordar los problemas planteados en estas prácticas desde diferentes niveles de abstracción.\n",
        "\n",
        "A lo largo de estas prácticas se asume que el alumnado domina el lenguaje y por tanto no se hará una introducción específica al mismo. Entre los aspectos que hay que dominar del lenguaje se incluyen:\n",
        "\n",
        "* Tipos, variables y expresiones\n",
        "* Lista, cadenas, tuplas y diccionarios\n",
        "* Mutabilidad\n",
        "* Control de flujo\n",
        "* Funciones y clases\n",
        "* Módulos\n",
        "\n",
        "Si no se dominan alguno de estos aspectos se debe buscar información externa sobre ellos.\n",
        "\n",
        "## Ejercicio\n",
        "\n",
        "Para autoevaluar si se tienen los conocimientos mínimos de python realiza el siguiente ejercicio mínimo:\n",
        "\n",
        "> Realiza un programa en Python que determine cuantos números primos hay desde el 0 al 1234567."
      ]
    },
    {
      "cell_type": "code",
      "execution_count": null,
      "metadata": {
        "id": "lfZrestDeZYV",
        "outputId": "960e1058-d4f0-4385-d7dd-a7703edba4ab"
      },
      "outputs": [
        {
          "name": "stdout",
          "output_type": "stream",
          "text": [
            "La cantidad de números primos en este rango es: 95360\n"
          ]
        }
      ],
      "source": [
        "contador = 0\n",
        "numero = 1234567\n",
        "\n",
        "def es_primo(numero):\n",
        "    if numero < 2:\n",
        "        return False\n",
        "    for i in range(2, int(numero**0.5) + 1):\n",
        "        if numero % i == 0:\n",
        "            return False\n",
        "    return True\n",
        "\n",
        "for i in range(2,numero+1):\n",
        "    if es_primo(i):\n",
        "        contador += 1\n",
        "print(f\"La cantidad de números primos en este rango es: {contador}\")"
      ]
    },
    {
      "cell_type": "markdown",
      "metadata": {
        "id": "GklDZHe4eZYW"
      },
      "source": [
        "# NumPy\n",
        "\n",
        "<img src=\"https://upload.wikimedia.org/wikipedia/commons/thumb/3/31/NumPy_logo_2020.svg/320px-NumPy_logo_2020.svg.png\">\n",
        "\n",
        "[NumPy](https://numpy.org/) es una  biblioteca de Python utilizada para realizar operaciones matemáticas y numéricas en vectores multidimensionales (tensores) de manera eficiente. Es ampliamente utilizada en la ciencia de datos, el aprendizaje automático y la investigación científica debido a su capacidad para manejar datos numéricos de manera eficiente. De forma general, cuando se trabaje en Python con imágenes se va a trabajar con matrices de NumPy.\n",
        "\n",
        "Hay un gran número de [tutoriales](https://numpy.org/learn/) online que pueden ser de utilidad. En este guion simplemente se hace una breve introducción."
      ]
    },
    {
      "cell_type": "code",
      "execution_count": 15,
      "metadata": {
        "colab": {
          "base_uri": "https://localhost:8080/"
        },
        "id": "7DlDhvwoeZYX",
        "outputId": "f763241b-ad03-4045-b244-8a8d5acc5377"
      },
      "outputs": [
        {
          "output_type": "stream",
          "name": "stdout",
          "text": [
            "Numpy version: 1.23.5\n"
          ]
        }
      ],
      "source": [
        "import numpy as np\n",
        "\n",
        "print(f\"Numpy version: {np.__version__}\")"
      ]
    },
    {
      "cell_type": "markdown",
      "metadata": {
        "id": "VeHJsFdOeZYX"
      },
      "source": [
        "Existen dos forma de crear un array en NumPy, a partir de una estructura de datos en Python o con valores predefinidos. A continuación se muestran unos ejemplos"
      ]
    },
    {
      "cell_type": "code",
      "execution_count": null,
      "metadata": {
        "id": "uD5izGl-eZYX",
        "outputId": "2e743254-e7af-40af-96c8-adfa15457bd8"
      },
      "outputs": [
        {
          "name": "stdout",
          "output_type": "stream",
          "text": [
            "[1 2 3 4 5]\n"
          ]
        }
      ],
      "source": [
        "mi_lista = [1, 2, 3, 4, 5]\n",
        "mi_array = np.array(mi_lista)\n",
        "print(mi_array)"
      ]
    },
    {
      "cell_type": "code",
      "execution_count": null,
      "metadata": {
        "id": "q_oWU14IeZYY",
        "outputId": "2d507028-14d2-4f93-fb8f-20ded791a980"
      },
      "outputs": [
        {
          "name": "stdout",
          "output_type": "stream",
          "text": [
            "[0. 0. 0. 0. 0.]\n",
            "[1. 1. 1.]\n",
            "[7 7 7 7]\n"
          ]
        }
      ],
      "source": [
        "# Array de ceros\n",
        "ceros = np.zeros(5)\n",
        "\n",
        "# Array de unos\n",
        "unos = np.ones(3)\n",
        "\n",
        "# Array de valores constantes\n",
        "constantes = np.full(4, 7)  # Un Array de 4 elementos con el valor 7\n",
        "\n",
        "print(ceros)\n",
        "print(unos)\n",
        "print(constantes)"
      ]
    },
    {
      "cell_type": "code",
      "execution_count": null,
      "metadata": {
        "id": "vbcNPNsEeZYY",
        "outputId": "6d42f041-1a99-4599-88da-43a911b7c841"
      },
      "outputs": [
        {
          "name": "stdout",
          "output_type": "stream",
          "text": [
            "[0 1 2 3 4 5 6 7 8 9]\n",
            "[1.  1.5 2.  2.5 3.  3.5 4.  4.5]\n"
          ]
        }
      ],
      "source": [
        "# Array de valores entre 0 y 9 (10 elementos)\n",
        "rango = np.arange(10)\n",
        "\n",
        "# Array de valores entre 1 y 5, con paso de 0.5\n",
        "paso = np.arange(1, 5, 0.5)\n",
        "\n",
        "print(rango)\n",
        "print(paso)"
      ]
    },
    {
      "cell_type": "code",
      "execution_count": null,
      "metadata": {
        "id": "VG1GEryMeZYY",
        "outputId": "b5bbfd2f-0005-4323-fb96-3700430d0979"
      },
      "outputs": [
        {
          "name": "stdout",
          "output_type": "stream",
          "text": [
            "[0.63941731 0.00554548 0.76816035]\n",
            "[ 38  63 100  32  70]\n"
          ]
        }
      ],
      "source": [
        "# Array de números aleatorios entre 0 y 1\n",
        "aleatorios = np.random.rand(3)\n",
        "\n",
        "# Array de números enteros aleatorios entre 1 y 100\n",
        "enteros_aleatorios = np.random.randint(1, 101, 5)  # 5 números aleatorios\n",
        "\n",
        "print(aleatorios)\n",
        "print(enteros_aleatorios)"
      ]
    },
    {
      "cell_type": "code",
      "execution_count": null,
      "metadata": {
        "id": "JPqE-FN6eZYZ",
        "outputId": "fca4ba2f-b952-460b-b859-dc322bc73f88"
      },
      "outputs": [
        {
          "name": "stdout",
          "output_type": "stream",
          "text": [
            "[ 0.   2.5  5.   7.5 10. ]\n"
          ]
        }
      ],
      "source": [
        "# Array de números espaciados\n",
        "espaciados = np.linspace(0, 10, 5)  # 5 números entre 0 y 10, espaciados uniformemente\n",
        "print(espaciados)"
      ]
    },
    {
      "cell_type": "markdown",
      "metadata": {
        "id": "liDz04WPeZYZ"
      },
      "source": [
        "Los atributos más importantes de un array en NumPy son:\n",
        "* shape: retorna una tupla de enteros que indica el tamaño del array en cada dimensión.\n",
        "* ndim: indica el número de ejes (dimensiones) del array.\n",
        "* size: indica el número total de elementos del array.\n",
        "* dtype: es un objeto que describe el tipo de elementos en el array.\n",
        "* data: es el búfer que contiene los elementos reales del array."
      ]
    },
    {
      "cell_type": "code",
      "execution_count": null,
      "metadata": {
        "id": "-se7YHq7eZYZ"
      },
      "outputs": [],
      "source": [
        "my_numpy_array = np.array([[1,2,3],[4,5,6]])\n",
        "\n",
        "# Atributos\n",
        "print(my_numpy_array)\n",
        "print(my_numpy_array.shape)\n",
        "print(my_numpy_array.ndim)\n",
        "print(my_numpy_array.size)\n",
        "print(my_numpy_array.dtype)\n",
        "print(my_numpy_array.data)"
      ]
    },
    {
      "cell_type": "markdown",
      "metadata": {
        "id": "EcI8QpFEeZYZ"
      },
      "source": [
        "NumPy ofrece una amplia variedad de operaciones matemáticas y funciones que puedes aplicar a los arrays."
      ]
    },
    {
      "cell_type": "code",
      "execution_count": null,
      "metadata": {
        "id": "SYVg50IReZYZ",
        "outputId": "fc9e4c22-c696-4572-9881-2437c554f9d9"
      },
      "outputs": [
        {
          "name": "stdout",
          "output_type": "stream",
          "text": [
            "[5 7 9]\n",
            "[-3 -3 -3]\n",
            "[ 4 10 18]\n",
            "[0.25 0.4  0.5 ]\n"
          ]
        }
      ],
      "source": [
        "a = np.array([1, 2, 3])\n",
        "b = np.array([4, 5, 6])\n",
        "\n",
        "# Suma de arreglos\n",
        "suma = a + b\n",
        "\n",
        "# Resta de arreglos\n",
        "resta = a - b\n",
        "\n",
        "# Producto elemento a elemento\n",
        "producto = a * b\n",
        "\n",
        "# División elemento a elemento\n",
        "division = a / b\n",
        "\n",
        "print(suma)\n",
        "print(resta)\n",
        "print(producto)\n",
        "print(division)"
      ]
    },
    {
      "cell_type": "markdown",
      "metadata": {
        "id": "llsQT1yceZYa"
      },
      "source": [
        "La gran ventaja de realizar las operaciones de esta forma, además de ser código más legible, es que resulta mucho más eficiente."
      ]
    },
    {
      "cell_type": "markdown",
      "metadata": {
        "id": "MitOBYiXeZYa"
      },
      "source": [
        "El acceso a un array multidimensional siempre empieza por fila y columna."
      ]
    },
    {
      "cell_type": "code",
      "execution_count": null,
      "metadata": {
        "id": "R8WkZGdIeZYa",
        "outputId": "097526d0-ff70-4c40-a692-4470eff3c6ef"
      },
      "outputs": [
        {
          "name": "stdout",
          "output_type": "stream",
          "text": [
            "[[ 1  2  3  4  5]\n",
            " [ 6  7  8  9 10]\n",
            " [11 12 13 14 15]]\n",
            "(3, 5)\n",
            "8\n"
          ]
        }
      ],
      "source": [
        "my_array = np.array([[1,2,3,4,5],[6,7,8,9,10],[11,12,13,14,15]])\n",
        "\n",
        "print(my_array)\n",
        "print(my_array.shape)\n",
        "\n",
        "row = 1\n",
        "col = 2\n",
        "print(my_array[row, col])"
      ]
    },
    {
      "cell_type": "markdown",
      "metadata": {
        "id": "IbffbzoPeZYa"
      },
      "source": [
        "El rebanado (slicing) permite acceder a un conjunto de datos."
      ]
    },
    {
      "cell_type": "code",
      "execution_count": null,
      "metadata": {
        "id": "G4uoUGBoeZYb",
        "outputId": "9bd94c55-16e9-4cde-f9ff-88bc9b81d396"
      },
      "outputs": [
        {
          "name": "stdout",
          "output_type": "stream",
          "text": [
            "[[ 1  2  3  4  5]\n",
            " [ 6  7  8  9 10]\n",
            " [11 12 13 14 15]]\n",
            "[[2 3]\n",
            " [7 8]]\n"
          ]
        }
      ],
      "source": [
        "my_array = np.array([[1,2,3,4,5],[6,7,8,9,10],[11,12,13,14,15]])\n",
        "\n",
        "print(my_array)\n",
        "print(my_array[0:2, 1:3])\n",
        "\n",
        "# Un slide 0:1 implica el acceso a las posiciones 0 y 1. La 2 no se incluye."
      ]
    },
    {
      "cell_type": "markdown",
      "metadata": {
        "id": "WElAjUMBeZYb"
      },
      "source": [
        "> Para verificar que dominas este importante acceso a porciones de un array, determina el resultado que aparecerá por pantalla antes de ejecutar"
      ]
    },
    {
      "cell_type": "code",
      "execution_count": null,
      "metadata": {
        "id": "uKXNB8mQeZYb",
        "outputId": "bd558348-c036-45cb-f72f-f034a940ca15"
      },
      "outputs": [
        {
          "name": "stdout",
          "output_type": "stream",
          "text": [
            "[3 4]\n",
            "[[28 29]\n",
            " [34 35]]\n",
            "[ 2  8 14 20 26 32]\n",
            "[[12 14 16]\n",
            " [24 26 28]]\n"
          ]
        }
      ],
      "source": [
        "a = np.array([[0, 1, 2, 3, 4, 5],\n",
        "              [6, 7, 8, 9, 10, 11],\n",
        "              [12, 13, 14, 15, 16, 17],\n",
        "              [18, 19, 20, 21, 22, 23],\n",
        "              [24, 25, 26, 27, 28, 29],\n",
        "              [30, 31, 32, 33, 34, 35]])\n",
        "\n",
        "result_1 = a[0, 3:5]\n",
        "result_2 = a[4:, 4:]\n",
        "result_3 = a[:, 2]\n",
        "result_4 = a[2::2, ::2]\n",
        "\n",
        "print(result_1)\n",
        "print(result_2)\n",
        "print(result_3)\n",
        "print(result_4)"
      ]
    },
    {
      "cell_type": "markdown",
      "metadata": {
        "id": "3LXw8DaTeZYc"
      },
      "source": [
        "# Ejercicio\n",
        "\n",
        "> Realiza un programa en python que itere sobre un array de números aleatorios de tamaño 1000x1000 y multiplique cada elemento por dos.\n",
        ">\n",
        "> Realiza ahora el mismo programa usando directamente la multiplicación de array.\n",
        ">\n",
        "> Mide tiempos y compara los resultados.\n"
      ]
    },
    {
      "cell_type": "code",
      "execution_count": null,
      "metadata": {
        "id": "dR_WfAxSeZYc",
        "outputId": "d6a8148c-d85e-453f-d8ce-95936f30d47b"
      },
      "outputs": [
        {
          "name": "stdout",
          "output_type": "stream",
          "text": [
            "Inicial [[0.40378065 0.04577703 0.72090255 ... 0.15312325 0.68669892 0.0823652 ]\n",
            " [0.57476739 0.41116995 0.41813548 ... 0.06620994 0.16323402 0.43832194]\n",
            " [0.45855018 0.91364594 0.19399815 ... 0.851974   0.74646761 0.71271801]\n",
            " ...\n",
            " [0.01207555 0.07429173 0.96985553 ... 0.94550181 0.88309309 0.84114012]\n",
            " [0.50700902 0.929864   0.49310979 ... 0.27089483 0.7331493  0.75334559]\n",
            " [0.8689277  0.26911061 0.66489436 ... 0.67585081 0.29548017 0.3804571 ]]\n",
            "Final [[0.80756129 0.09155406 1.44180511 ... 0.3062465  1.37339783 0.16473041]\n",
            " [1.14953478 0.82233991 0.83627097 ... 0.13241987 0.32646805 0.87664388]\n",
            " [0.91710037 1.82729188 0.38799629 ... 1.703948   1.49293522 1.42543603]\n",
            " ...\n",
            " [0.02415109 0.14858345 1.93971107 ... 1.89100361 1.76618619 1.68228024]\n",
            " [1.01401804 1.85972799 0.98621959 ... 0.54178965 1.4662986  1.50669118]\n",
            " [1.7378554  0.53822123 1.32978873 ... 1.35170162 0.59096034 0.7609142 ]]\n"
          ]
        }
      ],
      "source": [
        "array_aleatorio = np.random.random((1000, 1000))\n",
        "array_segundo =np.zeros((1000,1000))\n",
        "print(\"Inicial\",array_aleatorio)\n",
        "for i in range(array_aleatorio.shape[0]):\n",
        "    for j in range(array_aleatorio.shape[1]):\n",
        "        array_segundo[i,j]=array_aleatorio[i,j]\n",
        "        array_segundo[i, j] *= 2\n",
        "print(\"Final\",array_segundo)"
      ]
    },
    {
      "cell_type": "code",
      "execution_count": null,
      "metadata": {
        "id": "1HscPMP7eZYd",
        "outputId": "21686e69-005d-4d15-f142-57e7fa84fc0c"
      },
      "outputs": [
        {
          "name": "stdout",
          "output_type": "stream",
          "text": [
            "[[0.80756129 0.09155406 1.44180511 ... 0.3062465  1.37339783 0.16473041]\n",
            " [1.14953478 0.82233991 0.83627097 ... 0.13241987 0.32646805 0.87664388]\n",
            " [0.91710037 1.82729188 0.38799629 ... 1.703948   1.49293522 1.42543603]\n",
            " ...\n",
            " [0.02415109 0.14858345 1.93971107 ... 1.89100361 1.76618619 1.68228024]\n",
            " [1.01401804 1.85972799 0.98621959 ... 0.54178965 1.4662986  1.50669118]\n",
            " [1.7378554  0.53822123 1.32978873 ... 1.35170162 0.59096034 0.7609142 ]]\n"
          ]
        }
      ],
      "source": [
        "array_aleatorio= array_aleatorio *2\n",
        "print(array_aleatorio)"
      ]
    },
    {
      "cell_type": "markdown",
      "metadata": {
        "id": "9uAThu-CeZYd"
      },
      "source": [
        "Es más rápido hacerlo de la segunda forma"
      ]
    },
    {
      "cell_type": "markdown",
      "metadata": {
        "id": "C5aROf-ieZYe"
      },
      "source": [
        "La biblioteca NumPy en muchos casos se complementa con SciPy, que proporciona funciones de análisis de datos adicionales."
      ]
    },
    {
      "cell_type": "markdown",
      "metadata": {
        "id": "LELNwv1YeZYe"
      },
      "source": [
        "# PyTorch\n",
        "\n",
        "<img src=\"https://upload.wikimedia.org/wikipedia/commons/thumb/c/c6/PyTorch_logo_black.svg/180px-PyTorch_logo_black.svg.png\">\n",
        "\n",
        "[PyTorch](https://pytorch.org/) es otra popular biblioteca de aprendizaje automático y desarrollo de redes neuronales que se ha vuelto muy popular en la comunidad de investigación y desarrollo de inteligencia artificial. Una de las estructuras de datos fundamentales en PyTorch es el tensor, que es similar a un array multidimensional NumPy, pero con la capacidad de realizar cálculos en GPU para acelerar el aprendizaje profundo."
      ]
    },
    {
      "cell_type": "code",
      "execution_count": null,
      "metadata": {
        "id": "Dcfq0BZgeZYe",
        "outputId": "1a814839-79d6-4f47-dfaf-97bcb4669085"
      },
      "outputs": [
        {
          "name": "stdout",
          "output_type": "stream",
          "text": [
            "2.1.2+cpu\n"
          ]
        }
      ],
      "source": [
        "import torch\n",
        "print(torch.__version__)"
      ]
    },
    {
      "cell_type": "markdown",
      "metadata": {
        "id": "LN7AezqLeZYe"
      },
      "source": [
        "En muchos casos el trabajo con tensores en PyTorch es similar al uso de arrays NumPy."
      ]
    },
    {
      "cell_type": "code",
      "execution_count": null,
      "metadata": {
        "id": "QhtLTSkceZYf",
        "outputId": "dd782fc6-b295-42c9-8d02-8659bd2c619a"
      },
      "outputs": [
        {
          "name": "stdout",
          "output_type": "stream",
          "text": [
            "tensor([[0., 0.],\n",
            "        [0., 0.],\n",
            "        [0., 0.]])\n",
            "tensor([[1., 1., 1.],\n",
            "        [1., 1., 1.]])\n",
            "tensor([1, 2, 3, 4])\n",
            "tensor([5, 6, 7, 8], dtype=torch.int32)\n"
          ]
        }
      ],
      "source": [
        "# Crear un tensor de ceros de tamaño (3, 2)\n",
        "tensor_ceros = torch.zeros(3, 2)\n",
        "print(tensor_ceros)\n",
        "\n",
        "# Crear un tensor de unos de tamaño (2, 3)\n",
        "tensor_unos = torch.ones(2, 3)\n",
        "print(tensor_unos)\n",
        "\n",
        "# Crear un tensor desde una lista\n",
        "lista = [1, 2, 3, 4]\n",
        "tensor_desde_lista = torch.tensor(lista)\n",
        "print(tensor_desde_lista)\n",
        "\n",
        "# Crear un tensor desde un arreglo NumPy\n",
        "arreglo_numpy = np.array([5, 6, 7, 8])\n",
        "tensor_desde_numpy = torch.from_numpy(arreglo_numpy)\n",
        "print(tensor_desde_numpy)"
      ]
    },
    {
      "cell_type": "markdown",
      "metadata": {
        "id": "Pazcv4yfeZYf"
      },
      "source": [
        "La parte de operaciones matemáticas también sería similar."
      ]
    },
    {
      "cell_type": "code",
      "execution_count": null,
      "metadata": {
        "id": "dxD-0P5teZYf",
        "outputId": "ec59d903-4698-40a3-9e52-bb859ec1b440"
      },
      "outputs": [
        {
          "name": "stdout",
          "output_type": "stream",
          "text": [
            "tensor([5, 7, 9])\n",
            "tensor([-3, -3, -3])\n",
            "tensor([ 4, 10, 18])\n",
            "tensor([0.2500, 0.4000, 0.5000])\n"
          ]
        }
      ],
      "source": [
        "# Crear dos tensores\n",
        "tensor1 = torch.tensor([1, 2, 3])\n",
        "tensor2 = torch.tensor([4, 5, 6])\n",
        "\n",
        "# Suma de tensores\n",
        "suma = tensor1 + tensor2\n",
        "\n",
        "# Resta de tensores\n",
        "resta = tensor1 - tensor2\n",
        "\n",
        "# Producto de tensores (elemento por elemento)\n",
        "producto = tensor1 * tensor2\n",
        "\n",
        "# División de tensores (elemento por elemento)\n",
        "division = tensor1 / tensor2\n",
        "\n",
        "print(suma)\n",
        "print(resta)\n",
        "print(producto)\n",
        "print(division)"
      ]
    },
    {
      "cell_type": "markdown",
      "metadata": {
        "id": "eIeE3_-IeZYf"
      },
      "source": [
        "De forma similar, también se pueden acceder a los atributos."
      ]
    },
    {
      "cell_type": "code",
      "execution_count": null,
      "metadata": {
        "id": "CufuAtSreZYm",
        "outputId": "05e7865e-34f3-4172-e2e1-48d5878e5b6b"
      },
      "outputs": [
        {
          "name": "stdout",
          "output_type": "stream",
          "text": [
            "tensor([[0., 0., 0., 0., 0., 0., 0.],\n",
            "        [0., 0., 0., 0., 0., 0., 0.],\n",
            "        [0., 0., 0., 0., 0., 0., 0.],\n",
            "        [0., 0., 0., 0., 0., 0., 0.],\n",
            "        [0., 0., 0., 0., 0., 0., 0.],\n",
            "        [0., 0., 0., 0., 0., 0., 0.]])\n",
            "torch.Size([6, 7])\n",
            "2\n",
            "<built-in method size of Tensor object at 0x000001C048447470>\n",
            "torch.float32\n",
            "tensor([[0., 0., 0., 0., 0., 0., 0.],\n",
            "        [0., 0., 0., 0., 0., 0., 0.],\n",
            "        [0., 0., 0., 0., 0., 0., 0.],\n",
            "        [0., 0., 0., 0., 0., 0., 0.],\n",
            "        [0., 0., 0., 0., 0., 0., 0.],\n",
            "        [0., 0., 0., 0., 0., 0., 0.]])\n"
          ]
        }
      ],
      "source": [
        "tensor = torch.zeros(6, 7)\n",
        "\n",
        "# Atributos\n",
        "print(tensor)\n",
        "print(tensor.shape)\n",
        "print(tensor.ndim)\n",
        "print(tensor.size)\n",
        "print(tensor.dtype)\n",
        "print(tensor.data)"
      ]
    },
    {
      "cell_type": "markdown",
      "metadata": {
        "id": "jdrax5hfeZYm"
      },
      "source": [
        "La gran diferencia respecto a NumPy es la posibilidad de transferir los arrays a la GPU y realizar las operaciones de forma similar."
      ]
    },
    {
      "cell_type": "code",
      "source": [
        "import torch"
      ],
      "metadata": {
        "id": "NkY9FW9ffE8p"
      },
      "execution_count": 3,
      "outputs": []
    },
    {
      "cell_type": "code",
      "execution_count": 4,
      "metadata": {
        "colab": {
          "base_uri": "https://localhost:8080/"
        },
        "id": "S81IyAtveZYn",
        "outputId": "cf6de2da-1b71-4c05-8374-0fd6df0ef969"
      },
      "outputs": [
        {
          "output_type": "execute_result",
          "data": {
            "text/plain": [
              "device(type='cpu')"
            ]
          },
          "metadata": {},
          "execution_count": 4
        }
      ],
      "source": [
        "t = torch.tensor([1,2,3])\n",
        "t.device"
      ]
    },
    {
      "cell_type": "code",
      "execution_count": 5,
      "metadata": {
        "colab": {
          "base_uri": "https://localhost:8080/"
        },
        "id": "ZHmGRt9FeZYn",
        "outputId": "6d430826-34f9-402f-9977-a1c3eeb1ad09"
      },
      "outputs": [
        {
          "output_type": "execute_result",
          "data": {
            "text/plain": [
              "tensor([1, 2, 3], device='cuda:0')"
            ]
          },
          "metadata": {},
          "execution_count": 5
        }
      ],
      "source": [
        "t = t.to(device='cuda')\n",
        "t"
      ]
    },
    {
      "cell_type": "markdown",
      "metadata": {
        "id": "Dn6cph0geZYn"
      },
      "source": [
        "Las operaciones se realizan de forma transparente."
      ]
    },
    {
      "cell_type": "code",
      "execution_count": 6,
      "metadata": {
        "colab": {
          "base_uri": "https://localhost:8080/"
        },
        "id": "oufS4zMUeZYo",
        "outputId": "d8206092-bda9-4ee9-f730-a4e38e493359"
      },
      "outputs": [
        {
          "output_type": "execute_result",
          "data": {
            "text/plain": [
              "tensor([0.8415, 0.9093, 0.1411], device='cuda:0')"
            ]
          },
          "metadata": {},
          "execution_count": 6
        }
      ],
      "source": [
        "torch.sin(t)"
      ]
    },
    {
      "cell_type": "code",
      "execution_count": 7,
      "metadata": {
        "colab": {
          "base_uri": "https://localhost:8080/"
        },
        "id": "wTjx3uJDeZYo",
        "outputId": "f19830ae-a1a0-486f-e243-b025451a9a99"
      },
      "outputs": [
        {
          "output_type": "execute_result",
          "data": {
            "text/plain": [
              "tensor([3, 3, 3], device='cuda:0')"
            ]
          },
          "metadata": {},
          "execution_count": 7
        }
      ],
      "source": [
        "t1 = torch.tensor([1,1,1], device='cuda')\n",
        "t2 = torch.tensor([2,2,2], device='cuda')\n",
        "t1 + t2"
      ]
    },
    {
      "cell_type": "markdown",
      "metadata": {
        "id": "7707pJH1eZYo"
      },
      "source": [
        "## Ejercicio\n",
        "\n",
        "Para autoevaluar si se han quedado claros los conceptos anteriores realiza el siguiente ejercicio\n",
        "\n",
        "> Realiza un programa en Python que mida cuanto tiempo tarda NumPy y PyTorch (GPU) en multiplicar dos matrices de 1000x1000. Repite la operación 100 veces y calcula le media. Para medir tiempos sobre la GPU es necesario sincronizar las operaciones (usar `torch.cuda.synchronize()` antes de tomar el tiempo de finalización).\n",
        ">\n",
        "> Calcular la aceleración (tiempo en GPU / tiempo en CPU)"
      ]
    },
    {
      "cell_type": "code",
      "source": [
        "import numpy"
      ],
      "metadata": {
        "id": "sajDaBiHgE1x"
      },
      "execution_count": 13,
      "outputs": []
    },
    {
      "cell_type": "code",
      "execution_count": 25,
      "metadata": {
        "colab": {
          "base_uri": "https://localhost:8080/"
        },
        "id": "A8kuNstneZYo",
        "outputId": "7b01f710-d801-4f37-92ea-5fe3d8785da8"
      },
      "outputs": [
        {
          "output_type": "stream",
          "name": "stdout",
          "text": [
            "0.03530011177062988\n",
            "0.0008475732803344727\n",
            "0.02401049848911991\n"
          ]
        }
      ],
      "source": [
        "import time\n",
        "import numpy\n",
        "device = torch.device(\"cuda\" if torch.cuda.is_available() else \"cpu\")\n",
        "matriz_np = np.random.random((1000, 1000))\n",
        "matriz_torch = torch.rand((1000, 1000), device=device)\n",
        "# Realizar multiplicación con NumPy y medir el tiempo\n",
        "start_time_np = time.time()\n",
        "for _ in range(100):\n",
        "    resultado_np = np.dot(matriz_np, matriz_np)\n",
        "end_time_np = time.time()\n",
        "tiempo_np = end_time_np - start_time_np\n",
        "tiempo_np=tiempo_np/100\n",
        "print(tiempo_np)\n",
        "# Realizar multiplicación con PyTorch en GPU y medir el tiempo\n",
        "start_time_torch = time.time()\n",
        "for _ in range(100):\n",
        "    resultado_torch = torch.mm(matriz_torch, matriz_torch)\n",
        "    torch.cuda.synchronize()  # Sincronizar operaciones en GPU\n",
        "end_time_torch = time.time()\n",
        "tiempo_torch = end_time_torch - start_time_torch\n",
        "tiempo_torch=tiempo_torch/100\n",
        "print(tiempo_torch)\n",
        "# Calcular la aceleración\n",
        "aceleracion = tiempo_torch / tiempo_np\n",
        "print(aceleracion)"
      ]
    },
    {
      "cell_type": "markdown",
      "metadata": {
        "id": "mtLLLPRbeZYo"
      },
      "source": [
        "# Matplotlib, Seaborn y Plotly\n",
        "\n",
        "<img src=\"https://upload.wikimedia.org/wikipedia/en/thumb/5/56/Matplotlib_logo.svg/450px-Matplotlib_logo.svg.png\" width=300 px>\n",
        "\n",
        "<img src=\"https://seaborn.pydata.org/_static/logo-wide-lightbg.svg\" width=300 px>\n",
        "\n",
        "<img src=\"https://upload.wikimedia.org/wikipedia/commons/thumb/8/8a/Plotly-logo.png/330px-Plotly-logo.png\" width=300 px>\n",
        "\n",
        "\n",
        "[Matplotlib](https://matplotlib.org/) y [Seaborn](https://seaborn.pydata.org/) son dos bibliotecas de Python ampliamente utilizadas para la visualización de datos. Matplotlib es una biblioteca de bajo nivel que proporciona gran  flexibilidad para crear gráficos personalizados, mientras que Seaborn es una biblioteca de alto nivel que simplifica la creación de gráficos estadísticos atractivos y informativos. A continuación se muestran unos ejemplos."
      ]
    },
    {
      "cell_type": "code",
      "execution_count": 19,
      "metadata": {
        "colab": {
          "base_uri": "https://localhost:8080/",
          "height": 472
        },
        "id": "xuxtA0ISeZYp",
        "outputId": "e64e2830-270e-4f48-a3ed-da4da4a7a38e"
      },
      "outputs": [
        {
          "output_type": "display_data",
          "data": {
            "text/plain": [
              "<Figure size 640x480 with 1 Axes>"
            ],
            "image/png": "[encoded data removed]"
          },
          "metadata": {}
        }
      ],
      "source": [
        "import matplotlib.pyplot as plt\n",
        "\n",
        "# Datos\n",
        "x = [1, 2, 3, 4, 5]\n",
        "y = [2, 3, 5, 7, 11]\n",
        "\n",
        "# Crear un gráfico de líneas\n",
        "plt.plot(x, y)\n",
        "\n",
        "# Agregar etiquetas a los ejes y un título\n",
        "plt.xlabel('Eje X')\n",
        "plt.ylabel('Eje Y')\n",
        "plt.title('Gráfico de Líneas')\n",
        "\n",
        "# Mostrar el gráfico\n",
        "plt.show()"
      ]
    },
    {
      "cell_type": "code",
      "execution_count": 20,
      "metadata": {
        "colab": {
          "base_uri": "https://localhost:8080/",
          "height": 472
        },
        "id": "rTEshbCpeZYp",
        "outputId": "bf1188ff-25cb-41ba-b4a7-860735ca6466"
      },
      "outputs": [
        {
          "output_type": "display_data",
          "data": {
            "text/plain": [
              "<Figure size 640x480 with 1 Axes>"
            ],
            "image/png": "[encoded data removed]"
          },
          "metadata": {}
        }
      ],
      "source": [
        "import matplotlib.pyplot as plt\n",
        "\n",
        "# Datos\n",
        "x = [1, 2, 3, 4, 5]\n",
        "y = [2, 3, 5, 7, 11]\n",
        "\n",
        "# Crear un gráfico de dispersión\n",
        "plt.scatter(x, y)\n",
        "\n",
        "# Agregar etiquetas a los ejes y un título\n",
        "plt.xlabel('Eje X')\n",
        "plt.ylabel('Eje Y')\n",
        "plt.title('Gráfico de Dispersión')\n",
        "\n",
        "# Mostrar el gráfico\n",
        "plt.show()"
      ]
    },
    {
      "cell_type": "code",
      "execution_count": 21,
      "metadata": {
        "colab": {
          "base_uri": "https://localhost:8080/",
          "height": 472
        },
        "id": "xBOUuVDdeZYp",
        "outputId": "6aad7fe8-7f9b-4350-b3db-c1b56780201c"
      },
      "outputs": [
        {
          "output_type": "display_data",
          "data": {
            "text/plain": [
              "<Figure size 640x480 with 1 Axes>"
            ],
            "image/png": "[encoded data removed]"
          },
          "metadata": {}
        }
      ],
      "source": [
        "import matplotlib.pyplot as plt\n",
        "\n",
        "# Datos\n",
        "datos = [2, 2, 3, 3, 3, 4, 4, 5, 5, 6]\n",
        "\n",
        "# Crear un histograma\n",
        "plt.hist(datos, bins=5, edgecolor='k')\n",
        "\n",
        "# Agregar etiquetas a los ejes y un título\n",
        "plt.xlabel('Valores')\n",
        "plt.ylabel('Frecuencia')\n",
        "plt.title('Histograma')\n",
        "\n",
        "# Mostrar el gráfico\n",
        "plt.show()\n"
      ]
    },
    {
      "cell_type": "markdown",
      "metadata": {
        "id": "fd8m6CKPeZYp"
      },
      "source": [
        "A continuación se muestra un resumen de opciones para la biblioteca.\n",
        "\n",
        "![](https://matplotlib.org/cheatsheets/_images/cheatsheets-1.png)\n",
        "\n",
        "![](https://matplotlib.org/cheatsheets/_images/cheatsheets-2.png)\n",
        "\n"
      ]
    },
    {
      "cell_type": "markdown",
      "metadata": {
        "id": "411ynstkeZYq"
      },
      "source": [
        "Seaborn proporciona gráficos en ocasiones similares y en otros casos más especializados, siempre proporcionando un mejor estilo."
      ]
    },
    {
      "cell_type": "code",
      "execution_count": 26,
      "metadata": {
        "colab": {
          "base_uri": "https://localhost:8080/",
          "height": 472
        },
        "id": "kuOxRDWmeZYq",
        "outputId": "de09c24d-c04c-4a47-9bbb-90ca7cc9f22e"
      },
      "outputs": [
        {
          "output_type": "display_data",
          "data": {
            "text/plain": [
              "<Figure size 640x480 with 1 Axes>"
            ],
            "image/png": "[encoded data removed]"
          },
          "metadata": {}
        }
      ],
      "source": [
        "import seaborn as sns\n",
        "import matplotlib.pyplot as plt\n",
        "\n",
        "# Datos\n",
        "categorias = ['A', 'B', 'C', 'D']\n",
        "valores = [10, 20, 15, 30]\n",
        "\n",
        "# Crear un gráfico de barras\n",
        "sns.barplot(x=categorias, y=valores)\n",
        "\n",
        "# Agregar etiquetas a los ejes y un título\n",
        "plt.xlabel('Categorías')\n",
        "plt.ylabel('Valores')\n",
        "plt.title('Gráfico de Barras')\n",
        "\n",
        "# Mostrar el gráfico\n",
        "plt.show()\n"
      ]
    },
    {
      "cell_type": "code",
      "execution_count": 27,
      "metadata": {
        "colab": {
          "base_uri": "https://localhost:8080/",
          "height": 453
        },
        "id": "_jxDKYsDeZYq",
        "outputId": "bd301032-2336-4e44-fff9-1b32025b384c"
      },
      "outputs": [
        {
          "output_type": "display_data",
          "data": {
            "text/plain": [
              "<Figure size 640x480 with 2 Axes>"
            ],
            "image/png": "[encoded data removed]"
          },
          "metadata": {}
        }
      ],
      "source": [
        "import seaborn as sns\n",
        "import matplotlib.pyplot as plt\n",
        "\n",
        "# Datos (matriz de correlación)\n",
        "correlacion = [[1, 0.8, 0.6],\n",
        "               [0.8, 1, 0.4],\n",
        "               [0.6, 0.4, 1]]\n",
        "\n",
        "# Crear un mapa de calor\n",
        "sns.heatmap(correlacion, annot=True, cmap='coolwarm')\n",
        "\n",
        "# Agregar un título\n",
        "plt.title('Mapa de Calor de Correlación')\n",
        "\n",
        "# Mostrar el gráfico\n",
        "plt.show()\n",
        "\n"
      ]
    },
    {
      "cell_type": "markdown",
      "metadata": {
        "id": "E7Cca5nheZYq"
      },
      "source": [
        "Estos son solo algunos ejemplos básicos de lo se puede hacer con Matplotlib y Seaborn. Ambas bibliotecas ofrecen una amplia gama de opciones de personalización y funciones avanzadas para crear visualizaciones de datos más complejas y detalladas."
      ]
    },
    {
      "cell_type": "markdown",
      "metadata": {
        "id": "4cKwuY2DeZYr"
      },
      "source": [
        "[Plotly](https://plotly.com/python/) es otra biblioteca de visualización de datos en Python que  destaca por su capacidad de crear gráficos interactivos y dinámicos."
      ]
    },
    {
      "cell_type": "code",
      "execution_count": 28,
      "metadata": {
        "colab": {
          "base_uri": "https://localhost:8080/",
          "height": 542
        },
        "id": "PQ9vLCBheZYr",
        "outputId": "681e385a-352d-4149-dc42-70ed881e28ce"
      },
      "outputs": [
        {
          "output_type": "display_data",
          "data": {
            "text/html": [
              "<html>\n",
              "<head><meta charset=\"utf-8\" /></head>\n",
              "<body>\n",
              "    <div>            <script src=\"https://cdnjs.cloudflare.com/ajax/libs/mathjax/2.7.5/MathJax.js?config=TeX-AMS-MML_SVG\"></script><script type=\"text/javascript\">if (window.MathJax && window.MathJax.Hub && window.MathJax.Hub.Config) {window.MathJax.Hub.Config({SVG: {font: \"STIX-Web\"}});}</script>                <script type=\"text/javascript\">window.PlotlyConfig = {MathJaxConfig: 'local'};</script>\n",
              "        <script charset=\"utf-8\" src=\"https://cdn.plot.ly/plotly-2.24.1.min.js\"></script>                <div id=\"bc43fa34-2e72-4054-8269-d0811c23457f\" class=\"plotly-graph-div\" style=\"height:525px; width:100%;\"></div>            <script type=\"text/javascript\">                                    window.PLOTLYENV=window.PLOTLYENV || {};                                    if (document.getElementById(\"bc43fa34-2e72-4054-8269-d0811c23457f\")) {                    Plotly.newPlot(                        \"bc43fa34-2e72-4054-8269-d0811c23457f\",                        [{\"mode\":\"lines\",\"name\":\"L\\u00ednea\",\"x\":[1,2,3,4,5],\"y\":[2,3,5,7,11],\"type\":\"scatter\"}],                        {\"title\":{\"text\":\"Gr\\u00e1fico de L\\u00edneas\"},\"xaxis\":{\"title\":{\"text\":\"Eje X\"}},\"yaxis\":{\"title\":{\"text\":\"Eje Y\"}},\"template\":{\"data\":{\"histogram2dcontour\":[{\"type\":\"histogram2dcontour\",\"colorbar\":{\"outlinewidth\":0,\"ticks\":\"\"},\"colorscale\":[[0.0,\"#0d0887\"],[0.1111111111111111,\"#46039f\"],[0.2222222222222222,\"#7201a8\"],[0.3333333333333333,\"#9c179e\"],[0.4444444444444444,\"#bd3786\"],[0.5555555555555556,\"#d8576b\"],[0.6666666666666666,\"#ed7953\"],[0.7777777777777778,\"#fb9f3a\"],[0.8888888888888888,\"#fdca26\"],[1.0,\"#f0f921\"]]}],\"choropleth\":[{\"type\":\"choropleth\",\"colorbar\":{\"outlinewidth\":0,\"ticks\":\"\"}}],\"histogram2d\":[{\"type\":\"histogram2d\",\"colorbar\":{\"outlinewidth\":0,\"ticks\":\"\"},\"colorscale\":[[0.0,\"#0d0887\"],[0.1111111111111111,\"#46039f\"],[0.2222222222222222,\"#7201a8\"],[0.3333333333333333,\"#9c179e\"],[0.4444444444444444,\"#bd3786\"],[0.5555555555555556,\"#d8576b\"],[0.6666666666666666,\"#ed7953\"],[0.7777777777777778,\"#fb9f3a\"],[0.8888888888888888,\"#fdca26\"],[1.0,\"#f0f921\"]]}],\"heatmap\":[{\"type\":\"heatmap\",\"colorbar\":{\"outlinewidth\":0,\"ticks\":\"\"},\"colorscale\":[[0.0,\"#0d0887\"],[0.1111111111111111,\"#46039f\"],[0.2222222222222222,\"#7201a8\"],[0.3333333333333333,\"#9c179e\"],[0.4444444444444444,\"#bd3786\"],[0.5555555555555556,\"#d8576b\"],[0.6666666666666666,\"#ed7953\"],[0.7777777777777778,\"#fb9f3a\"],[0.8888888888888888,\"#fdca26\"],[1.0,\"#f0f921\"]]}],\"heatmapgl\":[{\"type\":\"heatmapgl\",\"colorbar\":{\"outlinewidth\":0,\"ticks\":\"\"},\"colorscale\":[[0.0,\"#0d0887\"],[0.1111111111111111,\"#46039f\"],[0.2222222222222222,\"#7201a8\"],[0.3333333333333333,\"#9c179e\"],[0.4444444444444444,\"#bd3786\"],[0.5555555555555556,\"#d8576b\"],[0.6666666666666666,\"#ed7953\"],[0.7777777777777778,\"#fb9f3a\"],[0.8888888888888888,\"#fdca26\"],[1.0,\"#f0f921\"]]}],\"contourcarpet\":[{\"type\":\"contourcarpet\",\"colorbar\":{\"outlinewidth\":0,\"ticks\":\"\"}}],\"contour\":[{\"type\":\"contour\",\"colorbar\":{\"outlinewidth\":0,\"ticks\":\"\"},\"colorscale\":[[0.0,\"#0d0887\"],[0.1111111111111111,\"#46039f\"],[0.2222222222222222,\"#7201a8\"],[0.3333333333333333,\"#9c179e\"],[0.4444444444444444,\"#bd3786\"],[0.5555555555555556,\"#d8576b\"],[0.6666666666666666,\"#ed7953\"],[0.7777777777777778,\"#fb9f3a\"],[0.8888888888888888,\"#fdca26\"],[1.0,\"#f0f921\"]]}],\"surface\":[{\"type\":\"surface\",\"colorbar\":{\"outlinewidth\":0,\"ticks\":\"\"},\"colorscale\":[[0.0,\"#0d0887\"],[0.1111111111111111,\"#46039f\"],[0.2222222222222222,\"#7201a8\"],[0.3333333333333333,\"#9c179e\"],[0.4444444444444444,\"#bd3786\"],[0.5555555555555556,\"#d8576b\"],[0.6666666666666666,\"#ed7953\"],[0.7777777777777778,\"#fb9f3a\"],[0.8888888888888888,\"#fdca26\"],[1.0,\"#f0f921\"]]}],\"mesh3d\":[{\"type\":\"mesh3d\",\"colorbar\":{\"outlinewidth\":0,\"ticks\":\"\"}}],\"scatter\":[{\"fillpattern\":{\"fillmode\":\"overlay\",\"size\":10,\"solidity\":0.2},\"type\":\"scatter\"}],\"parcoords\":[{\"type\":\"parcoords\",\"line\":{\"colorbar\":{\"outlinewidth\":0,\"ticks\":\"\"}}}],\"scatterpolargl\":[{\"type\":\"scatterpolargl\",\"marker\":{\"colorbar\":{\"outlinewidth\":0,\"ticks\":\"\"}}}],\"bar\":[{\"error_x\":{\"color\":\"#2a3f5f\"},\"error_y\":{\"color\":\"#2a3f5f\"},\"marker\":{\"line\":{\"color\":\"#E5ECF6\",\"width\":0.5},\"pattern\":{\"fillmode\":\"overlay\",\"size\":10,\"solidity\":0.2}},\"type\":\"bar\"}],\"scattergeo\":[{\"type\":\"scattergeo\",\"marker\":{\"colorbar\":{\"outlinewidth\":0,\"ticks\":\"\"}}}],\"scatterpolar\":[{\"type\":\"scatterpolar\",\"marker\":{\"colorbar\":{\"outlinewidth\":0,\"ticks\":\"\"}}}],\"histogram\":[{\"marker\":{\"pattern\":{\"fillmode\":\"overlay\",\"size\":10,\"solidity\":0.2}},\"type\":\"histogram\"}],\"scattergl\":[{\"type\":\"scattergl\",\"marker\":{\"colorbar\":{\"outlinewidth\":0,\"ticks\":\"\"}}}],\"scatter3d\":[{\"type\":\"scatter3d\",\"line\":{\"colorbar\":{\"outlinewidth\":0,\"ticks\":\"\"}},\"marker\":{\"colorbar\":{\"outlinewidth\":0,\"ticks\":\"\"}}}],\"scattermapbox\":[{\"type\":\"scattermapbox\",\"marker\":{\"colorbar\":{\"outlinewidth\":0,\"ticks\":\"\"}}}],\"scatterternary\":[{\"type\":\"scatterternary\",\"marker\":{\"colorbar\":{\"outlinewidth\":0,\"ticks\":\"\"}}}],\"scattercarpet\":[{\"type\":\"scattercarpet\",\"marker\":{\"colorbar\":{\"outlinewidth\":0,\"ticks\":\"\"}}}],\"carpet\":[{\"aaxis\":{\"endlinecolor\":\"#2a3f5f\",\"gridcolor\":\"white\",\"linecolor\":\"white\",\"minorgridcolor\":\"white\",\"startlinecolor\":\"#2a3f5f\"},\"baxis\":{\"endlinecolor\":\"#2a3f5f\",\"gridcolor\":\"white\",\"linecolor\":\"white\",\"minorgridcolor\":\"white\",\"startlinecolor\":\"#2a3f5f\"},\"type\":\"carpet\"}],\"table\":[{\"cells\":{\"fill\":{\"color\":\"#EBF0F8\"},\"line\":{\"color\":\"white\"}},\"header\":{\"fill\":{\"color\":\"#C8D4E3\"},\"line\":{\"color\":\"white\"}},\"type\":\"table\"}],\"barpolar\":[{\"marker\":{\"line\":{\"color\":\"#E5ECF6\",\"width\":0.5},\"pattern\":{\"fillmode\":\"overlay\",\"size\":10,\"solidity\":0.2}},\"type\":\"barpolar\"}],\"pie\":[{\"automargin\":true,\"type\":\"pie\"}]},\"layout\":{\"autotypenumbers\":\"strict\",\"colorway\":[\"#636efa\",\"#EF553B\",\"#00cc96\",\"#ab63fa\",\"#FFA15A\",\"#19d3f3\",\"#FF6692\",\"#B6E880\",\"#FF97FF\",\"#FECB52\"],\"font\":{\"color\":\"#2a3f5f\"},\"hovermode\":\"closest\",\"hoverlabel\":{\"align\":\"left\"},\"paper_bgcolor\":\"white\",\"plot_bgcolor\":\"#E5ECF6\",\"polar\":{\"bgcolor\":\"#E5ECF6\",\"angularaxis\":{\"gridcolor\":\"white\",\"linecolor\":\"white\",\"ticks\":\"\"},\"radialaxis\":{\"gridcolor\":\"white\",\"linecolor\":\"white\",\"ticks\":\"\"}},\"ternary\":{\"bgcolor\":\"#E5ECF6\",\"aaxis\":{\"gridcolor\":\"white\",\"linecolor\":\"white\",\"ticks\":\"\"},\"baxis\":{\"gridcolor\":\"white\",\"linecolor\":\"white\",\"ticks\":\"\"},\"caxis\":{\"gridcolor\":\"white\",\"linecolor\":\"white\",\"ticks\":\"\"}},\"coloraxis\":{\"colorbar\":{\"outlinewidth\":0,\"ticks\":\"\"}},\"colorscale\":{\"sequential\":[[0.0,\"#0d0887\"],[0.1111111111111111,\"#46039f\"],[0.2222222222222222,\"#7201a8\"],[0.3333333333333333,\"#9c179e\"],[0.4444444444444444,\"#bd3786\"],[0.5555555555555556,\"#d8576b\"],[0.6666666666666666,\"#ed7953\"],[0.7777777777777778,\"#fb9f3a\"],[0.8888888888888888,\"#fdca26\"],[1.0,\"#f0f921\"]],\"sequentialminus\":[[0.0,\"#0d0887\"],[0.1111111111111111,\"#46039f\"],[0.2222222222222222,\"#7201a8\"],[0.3333333333333333,\"#9c179e\"],[0.4444444444444444,\"#bd3786\"],[0.5555555555555556,\"#d8576b\"],[0.6666666666666666,\"#ed7953\"],[0.7777777777777778,\"#fb9f3a\"],[0.8888888888888888,\"#fdca26\"],[1.0,\"#f0f921\"]],\"diverging\":[[0,\"#8e0152\"],[0.1,\"#c51b7d\"],[0.2,\"#de77ae\"],[0.3,\"#f1b6da\"],[0.4,\"#fde0ef\"],[0.5,\"#f7f7f7\"],[0.6,\"#e6f5d0\"],[0.7,\"#b8e186\"],[0.8,\"#7fbc41\"],[0.9,\"#4d9221\"],[1,\"#276419\"]]},\"xaxis\":{\"gridcolor\":\"white\",\"linecolor\":\"white\",\"ticks\":\"\",\"title\":{\"standoff\":15},\"zerolinecolor\":\"white\",\"automargin\":true,\"zerolinewidth\":2},\"yaxis\":{\"gridcolor\":\"white\",\"linecolor\":\"white\",\"ticks\":\"\",\"title\":{\"standoff\":15},\"zerolinecolor\":\"white\",\"automargin\":true,\"zerolinewidth\":2},\"scene\":{\"xaxis\":{\"backgroundcolor\":\"#E5ECF6\",\"gridcolor\":\"white\",\"linecolor\":\"white\",\"showbackground\":true,\"ticks\":\"\",\"zerolinecolor\":\"white\",\"gridwidth\":2},\"yaxis\":{\"backgroundcolor\":\"#E5ECF6\",\"gridcolor\":\"white\",\"linecolor\":\"white\",\"showbackground\":true,\"ticks\":\"\",\"zerolinecolor\":\"white\",\"gridwidth\":2},\"zaxis\":{\"backgroundcolor\":\"#E5ECF6\",\"gridcolor\":\"white\",\"linecolor\":\"white\",\"showbackground\":true,\"ticks\":\"\",\"zerolinecolor\":\"white\",\"gridwidth\":2}},\"shapedefaults\":{\"line\":{\"color\":\"#2a3f5f\"}},\"annotationdefaults\":{\"arrowcolor\":\"#2a3f5f\",\"arrowhead\":0,\"arrowwidth\":1},\"geo\":{\"bgcolor\":\"white\",\"landcolor\":\"#E5ECF6\",\"subunitcolor\":\"white\",\"showland\":true,\"showlakes\":true,\"lakecolor\":\"white\"},\"title\":{\"x\":0.05},\"mapbox\":{\"style\":\"light\"}}}},                        {\"responsive\": true}                    ).then(function(){\n",
              "                            \n",
              "var gd = document.getElementById('bc43fa34-2e72-4054-8269-d0811c23457f');\n",
              "var x = new MutationObserver(function (mutations, observer) {{\n",
              "        var display = window.getComputedStyle(gd).display;\n",
              "        if (!display || display === 'none') {{\n",
              "            console.log([gd, 'removed!']);\n",
              "            Plotly.purge(gd);\n",
              "            observer.disconnect();\n",
              "        }}\n",
              "}});\n",
              "\n",
              "// Listen for the removal of the full notebook cells\n",
              "var notebookContainer = gd.closest('#notebook-container');\n",
              "if (notebookContainer) {{\n",
              "    x.observe(notebookContainer, {childList: true});\n",
              "}}\n",
              "\n",
              "// Listen for the clearing of the current output cell\n",
              "var outputEl = gd.closest('.output');\n",
              "if (outputEl) {{\n",
              "    x.observe(outputEl, {childList: true});\n",
              "}}\n",
              "\n",
              "                        })                };                            </script>        </div>\n",
              "</body>\n",
              "</html>"
            ]
          },
          "metadata": {}
        }
      ],
      "source": [
        "import plotly.graph_objs as go\n",
        "\n",
        "# Datos\n",
        "x = [1, 2, 3, 4, 5]\n",
        "y = [2, 3, 5, 7, 11]\n",
        "\n",
        "# Crear un gráfico de líneas\n",
        "trace = go.Scatter(x=x, y=y, mode='lines', name='Línea')\n",
        "\n",
        "# Crear un layout\n",
        "layout = go.Layout(title='Gráfico de Líneas', xaxis=dict(title='Eje X'), yaxis=dict(title='Eje Y'))\n",
        "\n",
        "# Crear una figura\n",
        "fig = go.Figure(data=[trace], layout=layout)\n",
        "\n",
        "# Mostrar el gráfico\n",
        "fig.show()"
      ]
    },
    {
      "cell_type": "code",
      "execution_count": 29,
      "metadata": {
        "colab": {
          "base_uri": "https://localhost:8080/",
          "height": 542
        },
        "id": "c2viSbSxeZYr",
        "outputId": "2b112ac8-da8e-4717-bd68-c5e7f1b15e4f"
      },
      "outputs": [
        {
          "output_type": "display_data",
          "data": {
            "text/html": [
              "<html>\n",
              "<head><meta charset=\"utf-8\" /></head>\n",
              "<body>\n",
              "    <div>            <script src=\"https://cdnjs.cloudflare.com/ajax/libs/mathjax/2.7.5/MathJax.js?config=TeX-AMS-MML_SVG\"></script><script type=\"text/javascript\">if (window.MathJax && window.MathJax.Hub && window.MathJax.Hub.Config) {window.MathJax.Hub.Config({SVG: {font: \"STIX-Web\"}});}</script>                <script type=\"text/javascript\">window.PlotlyConfig = {MathJaxConfig: 'local'};</script>\n",
              "        <script charset=\"utf-8\" src=\"https://cdn.plot.ly/plotly-2.24.1.min.js\"></script>                <div id=\"fc48bb5b-2a11-4a4d-a3e4-506a1aa47672\" class=\"plotly-graph-div\" style=\"height:525px; width:100%;\"></div>            <script type=\"text/javascript\">                                    window.PLOTLYENV=window.PLOTLYENV || {};                                    if (document.getElementById(\"fc48bb5b-2a11-4a4d-a3e4-506a1aa47672\")) {                    Plotly.newPlot(                        \"fc48bb5b-2a11-4a4d-a3e4-506a1aa47672\",                        [{\"mode\":\"markers\",\"name\":\"Dispersi\\u00f3n\",\"x\":[1,2,3,4,5],\"y\":[2,3,5,7,11],\"type\":\"scatter\"}],                        {\"title\":{\"text\":\"Gr\\u00e1fico de Dispersi\\u00f3n\"},\"xaxis\":{\"title\":{\"text\":\"Eje X\"}},\"yaxis\":{\"title\":{\"text\":\"Eje Y\"}},\"template\":{\"data\":{\"histogram2dcontour\":[{\"type\":\"histogram2dcontour\",\"colorbar\":{\"outlinewidth\":0,\"ticks\":\"\"},\"colorscale\":[[0.0,\"#0d0887\"],[0.1111111111111111,\"#46039f\"],[0.2222222222222222,\"#7201a8\"],[0.3333333333333333,\"#9c179e\"],[0.4444444444444444,\"#bd3786\"],[0.5555555555555556,\"#d8576b\"],[0.6666666666666666,\"#ed7953\"],[0.7777777777777778,\"#fb9f3a\"],[0.8888888888888888,\"#fdca26\"],[1.0,\"#f0f921\"]]}],\"choropleth\":[{\"type\":\"choropleth\",\"colorbar\":{\"outlinewidth\":0,\"ticks\":\"\"}}],\"histogram2d\":[{\"type\":\"histogram2d\",\"colorbar\":{\"outlinewidth\":0,\"ticks\":\"\"},\"colorscale\":[[0.0,\"#0d0887\"],[0.1111111111111111,\"#46039f\"],[0.2222222222222222,\"#7201a8\"],[0.3333333333333333,\"#9c179e\"],[0.4444444444444444,\"#bd3786\"],[0.5555555555555556,\"#d8576b\"],[0.6666666666666666,\"#ed7953\"],[0.7777777777777778,\"#fb9f3a\"],[0.8888888888888888,\"#fdca26\"],[1.0,\"#f0f921\"]]}],\"heatmap\":[{\"type\":\"heatmap\",\"colorbar\":{\"outlinewidth\":0,\"ticks\":\"\"},\"colorscale\":[[0.0,\"#0d0887\"],[0.1111111111111111,\"#46039f\"],[0.2222222222222222,\"#7201a8\"],[0.3333333333333333,\"#9c179e\"],[0.4444444444444444,\"#bd3786\"],[0.5555555555555556,\"#d8576b\"],[0.6666666666666666,\"#ed7953\"],[0.7777777777777778,\"#fb9f3a\"],[0.8888888888888888,\"#fdca26\"],[1.0,\"#f0f921\"]]}],\"heatmapgl\":[{\"type\":\"heatmapgl\",\"colorbar\":{\"outlinewidth\":0,\"ticks\":\"\"},\"colorscale\":[[0.0,\"#0d0887\"],[0.1111111111111111,\"#46039f\"],[0.2222222222222222,\"#7201a8\"],[0.3333333333333333,\"#9c179e\"],[0.4444444444444444,\"#bd3786\"],[0.5555555555555556,\"#d8576b\"],[0.6666666666666666,\"#ed7953\"],[0.7777777777777778,\"#fb9f3a\"],[0.8888888888888888,\"#fdca26\"],[1.0,\"#f0f921\"]]}],\"contourcarpet\":[{\"type\":\"contourcarpet\",\"colorbar\":{\"outlinewidth\":0,\"ticks\":\"\"}}],\"contour\":[{\"type\":\"contour\",\"colorbar\":{\"outlinewidth\":0,\"ticks\":\"\"},\"colorscale\":[[0.0,\"#0d0887\"],[0.1111111111111111,\"#46039f\"],[0.2222222222222222,\"#7201a8\"],[0.3333333333333333,\"#9c179e\"],[0.4444444444444444,\"#bd3786\"],[0.5555555555555556,\"#d8576b\"],[0.6666666666666666,\"#ed7953\"],[0.7777777777777778,\"#fb9f3a\"],[0.8888888888888888,\"#fdca26\"],[1.0,\"#f0f921\"]]}],\"surface\":[{\"type\":\"surface\",\"colorbar\":{\"outlinewidth\":0,\"ticks\":\"\"},\"colorscale\":[[0.0,\"#0d0887\"],[0.1111111111111111,\"#46039f\"],[0.2222222222222222,\"#7201a8\"],[0.3333333333333333,\"#9c179e\"],[0.4444444444444444,\"#bd3786\"],[0.5555555555555556,\"#d8576b\"],[0.6666666666666666,\"#ed7953\"],[0.7777777777777778,\"#fb9f3a\"],[0.8888888888888888,\"#fdca26\"],[1.0,\"#f0f921\"]]}],\"mesh3d\":[{\"type\":\"mesh3d\",\"colorbar\":{\"outlinewidth\":0,\"ticks\":\"\"}}],\"scatter\":[{\"fillpattern\":{\"fillmode\":\"overlay\",\"size\":10,\"solidity\":0.2},\"type\":\"scatter\"}],\"parcoords\":[{\"type\":\"parcoords\",\"line\":{\"colorbar\":{\"outlinewidth\":0,\"ticks\":\"\"}}}],\"scatterpolargl\":[{\"type\":\"scatterpolargl\",\"marker\":{\"colorbar\":{\"outlinewidth\":0,\"ticks\":\"\"}}}],\"bar\":[{\"error_x\":{\"color\":\"#2a3f5f\"},\"error_y\":{\"color\":\"#2a3f5f\"},\"marker\":{\"line\":{\"color\":\"#E5ECF6\",\"width\":0.5},\"pattern\":{\"fillmode\":\"overlay\",\"size\":10,\"solidity\":0.2}},\"type\":\"bar\"}],\"scattergeo\":[{\"type\":\"scattergeo\",\"marker\":{\"colorbar\":{\"outlinewidth\":0,\"ticks\":\"\"}}}],\"scatterpolar\":[{\"type\":\"scatterpolar\",\"marker\":{\"colorbar\":{\"outlinewidth\":0,\"ticks\":\"\"}}}],\"histogram\":[{\"marker\":{\"pattern\":{\"fillmode\":\"overlay\",\"size\":10,\"solidity\":0.2}},\"type\":\"histogram\"}],\"scattergl\":[{\"type\":\"scattergl\",\"marker\":{\"colorbar\":{\"outlinewidth\":0,\"ticks\":\"\"}}}],\"scatter3d\":[{\"type\":\"scatter3d\",\"line\":{\"colorbar\":{\"outlinewidth\":0,\"ticks\":\"\"}},\"marker\":{\"colorbar\":{\"outlinewidth\":0,\"ticks\":\"\"}}}],\"scattermapbox\":[{\"type\":\"scattermapbox\",\"marker\":{\"colorbar\":{\"outlinewidth\":0,\"ticks\":\"\"}}}],\"scatterternary\":[{\"type\":\"scatterternary\",\"marker\":{\"colorbar\":{\"outlinewidth\":0,\"ticks\":\"\"}}}],\"scattercarpet\":[{\"type\":\"scattercarpet\",\"marker\":{\"colorbar\":{\"outlinewidth\":0,\"ticks\":\"\"}}}],\"carpet\":[{\"aaxis\":{\"endlinecolor\":\"#2a3f5f\",\"gridcolor\":\"white\",\"linecolor\":\"white\",\"minorgridcolor\":\"white\",\"startlinecolor\":\"#2a3f5f\"},\"baxis\":{\"endlinecolor\":\"#2a3f5f\",\"gridcolor\":\"white\",\"linecolor\":\"white\",\"minorgridcolor\":\"white\",\"startlinecolor\":\"#2a3f5f\"},\"type\":\"carpet\"}],\"table\":[{\"cells\":{\"fill\":{\"color\":\"#EBF0F8\"},\"line\":{\"color\":\"white\"}},\"header\":{\"fill\":{\"color\":\"#C8D4E3\"},\"line\":{\"color\":\"white\"}},\"type\":\"table\"}],\"barpolar\":[{\"marker\":{\"line\":{\"color\":\"#E5ECF6\",\"width\":0.5},\"pattern\":{\"fillmode\":\"overlay\",\"size\":10,\"solidity\":0.2}},\"type\":\"barpolar\"}],\"pie\":[{\"automargin\":true,\"type\":\"pie\"}]},\"layout\":{\"autotypenumbers\":\"strict\",\"colorway\":[\"#636efa\",\"#EF553B\",\"#00cc96\",\"#ab63fa\",\"#FFA15A\",\"#19d3f3\",\"#FF6692\",\"#B6E880\",\"#FF97FF\",\"#FECB52\"],\"font\":{\"color\":\"#2a3f5f\"},\"hovermode\":\"closest\",\"hoverlabel\":{\"align\":\"left\"},\"paper_bgcolor\":\"white\",\"plot_bgcolor\":\"#E5ECF6\",\"polar\":{\"bgcolor\":\"#E5ECF6\",\"angularaxis\":{\"gridcolor\":\"white\",\"linecolor\":\"white\",\"ticks\":\"\"},\"radialaxis\":{\"gridcolor\":\"white\",\"linecolor\":\"white\",\"ticks\":\"\"}},\"ternary\":{\"bgcolor\":\"#E5ECF6\",\"aaxis\":{\"gridcolor\":\"white\",\"linecolor\":\"white\",\"ticks\":\"\"},\"baxis\":{\"gridcolor\":\"white\",\"linecolor\":\"white\",\"ticks\":\"\"},\"caxis\":{\"gridcolor\":\"white\",\"linecolor\":\"white\",\"ticks\":\"\"}},\"coloraxis\":{\"colorbar\":{\"outlinewidth\":0,\"ticks\":\"\"}},\"colorscale\":{\"sequential\":[[0.0,\"#0d0887\"],[0.1111111111111111,\"#46039f\"],[0.2222222222222222,\"#7201a8\"],[0.3333333333333333,\"#9c179e\"],[0.4444444444444444,\"#bd3786\"],[0.5555555555555556,\"#d8576b\"],[0.6666666666666666,\"#ed7953\"],[0.7777777777777778,\"#fb9f3a\"],[0.8888888888888888,\"#fdca26\"],[1.0,\"#f0f921\"]],\"sequentialminus\":[[0.0,\"#0d0887\"],[0.1111111111111111,\"#46039f\"],[0.2222222222222222,\"#7201a8\"],[0.3333333333333333,\"#9c179e\"],[0.4444444444444444,\"#bd3786\"],[0.5555555555555556,\"#d8576b\"],[0.6666666666666666,\"#ed7953\"],[0.7777777777777778,\"#fb9f3a\"],[0.8888888888888888,\"#fdca26\"],[1.0,\"#f0f921\"]],\"diverging\":[[0,\"#8e0152\"],[0.1,\"#c51b7d\"],[0.2,\"#de77ae\"],[0.3,\"#f1b6da\"],[0.4,\"#fde0ef\"],[0.5,\"#f7f7f7\"],[0.6,\"#e6f5d0\"],[0.7,\"#b8e186\"],[0.8,\"#7fbc41\"],[0.9,\"#4d9221\"],[1,\"#276419\"]]},\"xaxis\":{\"gridcolor\":\"white\",\"linecolor\":\"white\",\"ticks\":\"\",\"title\":{\"standoff\":15},\"zerolinecolor\":\"white\",\"automargin\":true,\"zerolinewidth\":2},\"yaxis\":{\"gridcolor\":\"white\",\"linecolor\":\"white\",\"ticks\":\"\",\"title\":{\"standoff\":15},\"zerolinecolor\":\"white\",\"automargin\":true,\"zerolinewidth\":2},\"scene\":{\"xaxis\":{\"backgroundcolor\":\"#E5ECF6\",\"gridcolor\":\"white\",\"linecolor\":\"white\",\"showbackground\":true,\"ticks\":\"\",\"zerolinecolor\":\"white\",\"gridwidth\":2},\"yaxis\":{\"backgroundcolor\":\"#E5ECF6\",\"gridcolor\":\"white\",\"linecolor\":\"white\",\"showbackground\":true,\"ticks\":\"\",\"zerolinecolor\":\"white\",\"gridwidth\":2},\"zaxis\":{\"backgroundcolor\":\"#E5ECF6\",\"gridcolor\":\"white\",\"linecolor\":\"white\",\"showbackground\":true,\"ticks\":\"\",\"zerolinecolor\":\"white\",\"gridwidth\":2}},\"shapedefaults\":{\"line\":{\"color\":\"#2a3f5f\"}},\"annotationdefaults\":{\"arrowcolor\":\"#2a3f5f\",\"arrowhead\":0,\"arrowwidth\":1},\"geo\":{\"bgcolor\":\"white\",\"landcolor\":\"#E5ECF6\",\"subunitcolor\":\"white\",\"showland\":true,\"showlakes\":true,\"lakecolor\":\"white\"},\"title\":{\"x\":0.05},\"mapbox\":{\"style\":\"light\"}}}},                        {\"responsive\": true}                    ).then(function(){\n",
              "                            \n",
              "var gd = document.getElementById('fc48bb5b-2a11-4a4d-a3e4-506a1aa47672');\n",
              "var x = new MutationObserver(function (mutations, observer) {{\n",
              "        var display = window.getComputedStyle(gd).display;\n",
              "        if (!display || display === 'none') {{\n",
              "            console.log([gd, 'removed!']);\n",
              "            Plotly.purge(gd);\n",
              "            observer.disconnect();\n",
              "        }}\n",
              "}});\n",
              "\n",
              "// Listen for the removal of the full notebook cells\n",
              "var notebookContainer = gd.closest('#notebook-container');\n",
              "if (notebookContainer) {{\n",
              "    x.observe(notebookContainer, {childList: true});\n",
              "}}\n",
              "\n",
              "// Listen for the clearing of the current output cell\n",
              "var outputEl = gd.closest('.output');\n",
              "if (outputEl) {{\n",
              "    x.observe(outputEl, {childList: true});\n",
              "}}\n",
              "\n",
              "                        })                };                            </script>        </div>\n",
              "</body>\n",
              "</html>"
            ]
          },
          "metadata": {}
        }
      ],
      "source": [
        "import plotly.graph_objs as go\n",
        "\n",
        "# Datos\n",
        "x = [1, 2, 3, 4, 5]\n",
        "y = [2, 3, 5, 7, 11]\n",
        "\n",
        "# Crear un gráfico de dispersión\n",
        "trace = go.Scatter(x=x, y=y, mode='markers', name='Dispersión')\n",
        "\n",
        "# Crear un layout\n",
        "layout = go.Layout(title='Gráfico de Dispersión', xaxis=dict(title='Eje X'), yaxis=dict(title='Eje Y'))\n",
        "\n",
        "# Crear una figura\n",
        "fig = go.Figure(data=[trace], layout=layout)\n",
        "\n",
        "# Mostrar el gráfico\n",
        "fig.show()"
      ]
    },
    {
      "cell_type": "code",
      "execution_count": 30,
      "metadata": {
        "colab": {
          "base_uri": "https://localhost:8080/",
          "height": 542
        },
        "id": "FednC9pBeZYr",
        "outputId": "c6c8a437-12cb-4cf0-ebfe-ec7052a7ccf3"
      },
      "outputs": [
        {
          "output_type": "display_data",
          "data": {
            "text/html": [
              "<html>\n",
              "<head><meta charset=\"utf-8\" /></head>\n",
              "<body>\n",
              "    <div>            <script src=\"https://cdnjs.cloudflare.com/ajax/libs/mathjax/2.7.5/MathJax.js?config=TeX-AMS-MML_SVG\"></script><script type=\"text/javascript\">if (window.MathJax && window.MathJax.Hub && window.MathJax.Hub.Config) {window.MathJax.Hub.Config({SVG: {font: \"STIX-Web\"}});}</script>                <script type=\"text/javascript\">window.PlotlyConfig = {MathJaxConfig: 'local'};</script>\n",
              "        <script charset=\"utf-8\" src=\"https://cdn.plot.ly/plotly-2.24.1.min.js\"></script>                <div id=\"a191d604-22c1-4589-84c0-34aa287fc40b\" class=\"plotly-graph-div\" style=\"height:525px; width:100%;\"></div>            <script type=\"text/javascript\">                                    window.PLOTLYENV=window.PLOTLYENV || {};                                    if (document.getElementById(\"a191d604-22c1-4589-84c0-34aa287fc40b\")) {                    Plotly.newPlot(                        \"a191d604-22c1-4589-84c0-34aa287fc40b\",                        [{\"name\":\"Histograma\",\"x\":[2,2,3,3,3,4,4,5,5,6],\"xbins\":{\"end\":7,\"size\":1,\"start\":2},\"type\":\"histogram\"}],                        {\"title\":{\"text\":\"Histograma\"},\"xaxis\":{\"title\":{\"text\":\"Valores\"}},\"yaxis\":{\"title\":{\"text\":\"Frecuencia\"}},\"template\":{\"data\":{\"histogram2dcontour\":[{\"type\":\"histogram2dcontour\",\"colorbar\":{\"outlinewidth\":0,\"ticks\":\"\"},\"colorscale\":[[0.0,\"#0d0887\"],[0.1111111111111111,\"#46039f\"],[0.2222222222222222,\"#7201a8\"],[0.3333333333333333,\"#9c179e\"],[0.4444444444444444,\"#bd3786\"],[0.5555555555555556,\"#d8576b\"],[0.6666666666666666,\"#ed7953\"],[0.7777777777777778,\"#fb9f3a\"],[0.8888888888888888,\"#fdca26\"],[1.0,\"#f0f921\"]]}],\"choropleth\":[{\"type\":\"choropleth\",\"colorbar\":{\"outlinewidth\":0,\"ticks\":\"\"}}],\"histogram2d\":[{\"type\":\"histogram2d\",\"colorbar\":{\"outlinewidth\":0,\"ticks\":\"\"},\"colorscale\":[[0.0,\"#0d0887\"],[0.1111111111111111,\"#46039f\"],[0.2222222222222222,\"#7201a8\"],[0.3333333333333333,\"#9c179e\"],[0.4444444444444444,\"#bd3786\"],[0.5555555555555556,\"#d8576b\"],[0.6666666666666666,\"#ed7953\"],[0.7777777777777778,\"#fb9f3a\"],[0.8888888888888888,\"#fdca26\"],[1.0,\"#f0f921\"]]}],\"heatmap\":[{\"type\":\"heatmap\",\"colorbar\":{\"outlinewidth\":0,\"ticks\":\"\"},\"colorscale\":[[0.0,\"#0d0887\"],[0.1111111111111111,\"#46039f\"],[0.2222222222222222,\"#7201a8\"],[0.3333333333333333,\"#9c179e\"],[0.4444444444444444,\"#bd3786\"],[0.5555555555555556,\"#d8576b\"],[0.6666666666666666,\"#ed7953\"],[0.7777777777777778,\"#fb9f3a\"],[0.8888888888888888,\"#fdca26\"],[1.0,\"#f0f921\"]]}],\"heatmapgl\":[{\"type\":\"heatmapgl\",\"colorbar\":{\"outlinewidth\":0,\"ticks\":\"\"},\"colorscale\":[[0.0,\"#0d0887\"],[0.1111111111111111,\"#46039f\"],[0.2222222222222222,\"#7201a8\"],[0.3333333333333333,\"#9c179e\"],[0.4444444444444444,\"#bd3786\"],[0.5555555555555556,\"#d8576b\"],[0.6666666666666666,\"#ed7953\"],[0.7777777777777778,\"#fb9f3a\"],[0.8888888888888888,\"#fdca26\"],[1.0,\"#f0f921\"]]}],\"contourcarpet\":[{\"type\":\"contourcarpet\",\"colorbar\":{\"outlinewidth\":0,\"ticks\":\"\"}}],\"contour\":[{\"type\":\"contour\",\"colorbar\":{\"outlinewidth\":0,\"ticks\":\"\"},\"colorscale\":[[0.0,\"#0d0887\"],[0.1111111111111111,\"#46039f\"],[0.2222222222222222,\"#7201a8\"],[0.3333333333333333,\"#9c179e\"],[0.4444444444444444,\"#bd3786\"],[0.5555555555555556,\"#d8576b\"],[0.6666666666666666,\"#ed7953\"],[0.7777777777777778,\"#fb9f3a\"],[0.8888888888888888,\"#fdca26\"],[1.0,\"#f0f921\"]]}],\"surface\":[{\"type\":\"surface\",\"colorbar\":{\"outlinewidth\":0,\"ticks\":\"\"},\"colorscale\":[[0.0,\"#0d0887\"],[0.1111111111111111,\"#46039f\"],[0.2222222222222222,\"#7201a8\"],[0.3333333333333333,\"#9c179e\"],[0.4444444444444444,\"#bd3786\"],[0.5555555555555556,\"#d8576b\"],[0.6666666666666666,\"#ed7953\"],[0.7777777777777778,\"#fb9f3a\"],[0.8888888888888888,\"#fdca26\"],[1.0,\"#f0f921\"]]}],\"mesh3d\":[{\"type\":\"mesh3d\",\"colorbar\":{\"outlinewidth\":0,\"ticks\":\"\"}}],\"scatter\":[{\"fillpattern\":{\"fillmode\":\"overlay\",\"size\":10,\"solidity\":0.2},\"type\":\"scatter\"}],\"parcoords\":[{\"type\":\"parcoords\",\"line\":{\"colorbar\":{\"outlinewidth\":0,\"ticks\":\"\"}}}],\"scatterpolargl\":[{\"type\":\"scatterpolargl\",\"marker\":{\"colorbar\":{\"outlinewidth\":0,\"ticks\":\"\"}}}],\"bar\":[{\"error_x\":{\"color\":\"#2a3f5f\"},\"error_y\":{\"color\":\"#2a3f5f\"},\"marker\":{\"line\":{\"color\":\"#E5ECF6\",\"width\":0.5},\"pattern\":{\"fillmode\":\"overlay\",\"size\":10,\"solidity\":0.2}},\"type\":\"bar\"}],\"scattergeo\":[{\"type\":\"scattergeo\",\"marker\":{\"colorbar\":{\"outlinewidth\":0,\"ticks\":\"\"}}}],\"scatterpolar\":[{\"type\":\"scatterpolar\",\"marker\":{\"colorbar\":{\"outlinewidth\":0,\"ticks\":\"\"}}}],\"histogram\":[{\"marker\":{\"pattern\":{\"fillmode\":\"overlay\",\"size\":10,\"solidity\":0.2}},\"type\":\"histogram\"}],\"scattergl\":[{\"type\":\"scattergl\",\"marker\":{\"colorbar\":{\"outlinewidth\":0,\"ticks\":\"\"}}}],\"scatter3d\":[{\"type\":\"scatter3d\",\"line\":{\"colorbar\":{\"outlinewidth\":0,\"ticks\":\"\"}},\"marker\":{\"colorbar\":{\"outlinewidth\":0,\"ticks\":\"\"}}}],\"scattermapbox\":[{\"type\":\"scattermapbox\",\"marker\":{\"colorbar\":{\"outlinewidth\":0,\"ticks\":\"\"}}}],\"scatterternary\":[{\"type\":\"scatterternary\",\"marker\":{\"colorbar\":{\"outlinewidth\":0,\"ticks\":\"\"}}}],\"scattercarpet\":[{\"type\":\"scattercarpet\",\"marker\":{\"colorbar\":{\"outlinewidth\":0,\"ticks\":\"\"}}}],\"carpet\":[{\"aaxis\":{\"endlinecolor\":\"#2a3f5f\",\"gridcolor\":\"white\",\"linecolor\":\"white\",\"minorgridcolor\":\"white\",\"startlinecolor\":\"#2a3f5f\"},\"baxis\":{\"endlinecolor\":\"#2a3f5f\",\"gridcolor\":\"white\",\"linecolor\":\"white\",\"minorgridcolor\":\"white\",\"startlinecolor\":\"#2a3f5f\"},\"type\":\"carpet\"}],\"table\":[{\"cells\":{\"fill\":{\"color\":\"#EBF0F8\"},\"line\":{\"color\":\"white\"}},\"header\":{\"fill\":{\"color\":\"#C8D4E3\"},\"line\":{\"color\":\"white\"}},\"type\":\"table\"}],\"barpolar\":[{\"marker\":{\"line\":{\"color\":\"#E5ECF6\",\"width\":0.5},\"pattern\":{\"fillmode\":\"overlay\",\"size\":10,\"solidity\":0.2}},\"type\":\"barpolar\"}],\"pie\":[{\"automargin\":true,\"type\":\"pie\"}]},\"layout\":{\"autotypenumbers\":\"strict\",\"colorway\":[\"#636efa\",\"#EF553B\",\"#00cc96\",\"#ab63fa\",\"#FFA15A\",\"#19d3f3\",\"#FF6692\",\"#B6E880\",\"#FF97FF\",\"#FECB52\"],\"font\":{\"color\":\"#2a3f5f\"},\"hovermode\":\"closest\",\"hoverlabel\":{\"align\":\"left\"},\"paper_bgcolor\":\"white\",\"plot_bgcolor\":\"#E5ECF6\",\"polar\":{\"bgcolor\":\"#E5ECF6\",\"angularaxis\":{\"gridcolor\":\"white\",\"linecolor\":\"white\",\"ticks\":\"\"},\"radialaxis\":{\"gridcolor\":\"white\",\"linecolor\":\"white\",\"ticks\":\"\"}},\"ternary\":{\"bgcolor\":\"#E5ECF6\",\"aaxis\":{\"gridcolor\":\"white\",\"linecolor\":\"white\",\"ticks\":\"\"},\"baxis\":{\"gridcolor\":\"white\",\"linecolor\":\"white\",\"ticks\":\"\"},\"caxis\":{\"gridcolor\":\"white\",\"linecolor\":\"white\",\"ticks\":\"\"}},\"coloraxis\":{\"colorbar\":{\"outlinewidth\":0,\"ticks\":\"\"}},\"colorscale\":{\"sequential\":[[0.0,\"#0d0887\"],[0.1111111111111111,\"#46039f\"],[0.2222222222222222,\"#7201a8\"],[0.3333333333333333,\"#9c179e\"],[0.4444444444444444,\"#bd3786\"],[0.5555555555555556,\"#d8576b\"],[0.6666666666666666,\"#ed7953\"],[0.7777777777777778,\"#fb9f3a\"],[0.8888888888888888,\"#fdca26\"],[1.0,\"#f0f921\"]],\"sequentialminus\":[[0.0,\"#0d0887\"],[0.1111111111111111,\"#46039f\"],[0.2222222222222222,\"#7201a8\"],[0.3333333333333333,\"#9c179e\"],[0.4444444444444444,\"#bd3786\"],[0.5555555555555556,\"#d8576b\"],[0.6666666666666666,\"#ed7953\"],[0.7777777777777778,\"#fb9f3a\"],[0.8888888888888888,\"#fdca26\"],[1.0,\"#f0f921\"]],\"diverging\":[[0,\"#8e0152\"],[0.1,\"#c51b7d\"],[0.2,\"#de77ae\"],[0.3,\"#f1b6da\"],[0.4,\"#fde0ef\"],[0.5,\"#f7f7f7\"],[0.6,\"#e6f5d0\"],[0.7,\"#b8e186\"],[0.8,\"#7fbc41\"],[0.9,\"#4d9221\"],[1,\"#276419\"]]},\"xaxis\":{\"gridcolor\":\"white\",\"linecolor\":\"white\",\"ticks\":\"\",\"title\":{\"standoff\":15},\"zerolinecolor\":\"white\",\"automargin\":true,\"zerolinewidth\":2},\"yaxis\":{\"gridcolor\":\"white\",\"linecolor\":\"white\",\"ticks\":\"\",\"title\":{\"standoff\":15},\"zerolinecolor\":\"white\",\"automargin\":true,\"zerolinewidth\":2},\"scene\":{\"xaxis\":{\"backgroundcolor\":\"#E5ECF6\",\"gridcolor\":\"white\",\"linecolor\":\"white\",\"showbackground\":true,\"ticks\":\"\",\"zerolinecolor\":\"white\",\"gridwidth\":2},\"yaxis\":{\"backgroundcolor\":\"#E5ECF6\",\"gridcolor\":\"white\",\"linecolor\":\"white\",\"showbackground\":true,\"ticks\":\"\",\"zerolinecolor\":\"white\",\"gridwidth\":2},\"zaxis\":{\"backgroundcolor\":\"#E5ECF6\",\"gridcolor\":\"white\",\"linecolor\":\"white\",\"showbackground\":true,\"ticks\":\"\",\"zerolinecolor\":\"white\",\"gridwidth\":2}},\"shapedefaults\":{\"line\":{\"color\":\"#2a3f5f\"}},\"annotationdefaults\":{\"arrowcolor\":\"#2a3f5f\",\"arrowhead\":0,\"arrowwidth\":1},\"geo\":{\"bgcolor\":\"white\",\"landcolor\":\"#E5ECF6\",\"subunitcolor\":\"white\",\"showland\":true,\"showlakes\":true,\"lakecolor\":\"white\"},\"title\":{\"x\":0.05},\"mapbox\":{\"style\":\"light\"}}}},                        {\"responsive\": true}                    ).then(function(){\n",
              "                            \n",
              "var gd = document.getElementById('a191d604-22c1-4589-84c0-34aa287fc40b');\n",
              "var x = new MutationObserver(function (mutations, observer) {{\n",
              "        var display = window.getComputedStyle(gd).display;\n",
              "        if (!display || display === 'none') {{\n",
              "            console.log([gd, 'removed!']);\n",
              "            Plotly.purge(gd);\n",
              "            observer.disconnect();\n",
              "        }}\n",
              "}});\n",
              "\n",
              "// Listen for the removal of the full notebook cells\n",
              "var notebookContainer = gd.closest('#notebook-container');\n",
              "if (notebookContainer) {{\n",
              "    x.observe(notebookContainer, {childList: true});\n",
              "}}\n",
              "\n",
              "// Listen for the clearing of the current output cell\n",
              "var outputEl = gd.closest('.output');\n",
              "if (outputEl) {{\n",
              "    x.observe(outputEl, {childList: true});\n",
              "}}\n",
              "\n",
              "                        })                };                            </script>        </div>\n",
              "</body>\n",
              "</html>"
            ]
          },
          "metadata": {}
        }
      ],
      "source": [
        "import plotly.graph_objs as go\n",
        "\n",
        "# Datos\n",
        "datos = [2, 2, 3, 3, 3, 4, 4, 5, 5, 6]\n",
        "\n",
        "# Crear un histograma\n",
        "trace = go.Histogram(x=datos, name='Histograma', xbins=dict(start=2, end=7, size=1))\n",
        "\n",
        "# Crear un layout\n",
        "layout = go.Layout(title='Histograma', xaxis=dict(title='Valores'), yaxis=dict(title='Frecuencia'))\n",
        "\n",
        "# Crear una figura\n",
        "fig = go.Figure(data=[trace], layout=layout)\n",
        "\n",
        "# Mostrar el gráfico\n",
        "fig.show()\n"
      ]
    },
    {
      "cell_type": "markdown",
      "metadata": {
        "id": "KpeR1UkGeZYs"
      },
      "source": [
        "La elección entre Matplotlib, Seaborn y Plotly dependerá de las necesidades específicas. Para visualizaciones estáticas y personalizadas, Matplotlib y Seaborn son opciones sólidas. Si se necesitan gráficos interactivos para aplicaciones web o presentaciones dinámicas, Plotly podría ser la elección. En muchos casos, también se pueden combinar estas bibliotecas según los requerimientos.\n"
      ]
    }
  ],
  "metadata": {
    "kernelspec": {
      "display_name": "Python 3",
      "name": "python3"
    },
    "language_info": {
      "codemirror_mode": {
        "name": "ipython",
        "version": 3
      },
      "file_extension": ".py",
      "mimetype": "text/x-python",
      "name": "python",
      "nbconvert_exporter": "python",
      "pygments_lexer": "ipython3",
      "version": "3.11.7"
    },
    "colab": {
      "provenance": [],
      "gpuType": "T4"
    },
    "accelerator": "GPU"
  },
  "nbformat": 4,
  "nbformat_minor": 0
}